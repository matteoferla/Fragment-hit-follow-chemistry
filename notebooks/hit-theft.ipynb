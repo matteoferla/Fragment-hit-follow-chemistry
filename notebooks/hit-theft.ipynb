{
 "cells": [
  {
   "cell_type": "code",
   "execution_count": null,
   "metadata": {
    "collapsed": false,
    "jupyter": {
     "outputs_hidden": false
    }
   },
   "outputs": [],
   "source": [
    "import pymol2\n",
    "\n",
    "with pymol2.PyMOL() as pymol:\n",
    "    pymol.cmd.load('reference.pdb')\n",
    "    fasta: str = pymol.cmd.get_fastastr('reference')\n",
    "    assert fasta.count('>') == 1, 'There are multiple sequences'\n",
    "    seq: str = ''.join(fasta.split('\\n')[1:])\n",
    "\n",
    "print(len(seq), set(seq))"
   ]
  },
  {
   "cell_type": "code",
   "execution_count": null,
   "metadata": {
    "collapsed": false,
    "jupyter": {
     "outputs_hidden": false
    }
   },
   "outputs": [],
   "source": [
    "#@title Find related structures in the PDB\n",
    "import pyrosetta_help as ph\n",
    "\n",
    "acceptor_chain = 'A'\n",
    "\n",
    "print('blasting sequence...')\n",
    "hunter = ph.LigandHunter(seq)\n",
    "print('Most common ligands:')\n",
    "for lig, c in hunter.get_most_common_ligands()[:10]:\n",
    "    print(lig, c, hunter.ligand_data[lig][0]['name'])\n",
    "df = hunter.to_dataframe()\n",
    "df.to_csv('blast_hits.csv')\n",
    "df"
   ]
  },
  {
   "cell_type": "code",
   "execution_count": null,
   "metadata": {
    "collapsed": false,
    "jupyter": {
     "outputs_hidden": false
    }
   },
   "outputs": [],
   "source": [
    "import chempy\n",
    "from typing import List, Set, Dict\n",
    "fluff_marker = '§'  # name + fluff + index, say MPRO-x0102_0B§1\n",
    "from collections import defaultdict\n",
    "\n",
    "pdb_blocks: Dict[str, str] = {}\n",
    "details: Dict[str, Dict] = {}\n",
    "chemcomp_tally = defaultdict(int)\n",
    "with pymol2.PyMOL() as pymol:\n",
    "    pymol.cmd.set('pdb_conect_all', 'on')\n",
    "    pymol.cmd.load('reference.pdb')\n",
    "    for i, row in df.iterrows():\n",
    "        pymol.cmd.fetch(row.pdb_code)\n",
    "        pymol_name = row.pdb_code\n",
    "        xstal_name = row.pdb_code\n",
    "        pymol.cmd.align(f'%{row.pdb_code} and chain {row.chain}', 'reference')\n",
    "        for lig_resn in set(row.ligand_codes):\n",
    "            # ## Determine what is unique ligand residue\n",
    "            # get atoms of ligand\n",
    "            lig_atoms: List[chempy.Atom] = pymol.cmd.get_model(f'%{pymol_name} and resn {lig_resn}').atom\n",
    "            # get set of tuple of resi chain segi alt\n",
    "            selectors: Set[tuple] = {(atom.resi, atom.chain, atom.segi, atom.alt) for atom in lig_atoms}\n",
    "            # iterate for all unique\n",
    "            for resi, chain, segi, alt in selectors:\n",
    "                sele = f'%{pymol_name} and resn {lig_resn} and resi {resi}'\n",
    "                if chain:\n",
    "                    sele+= f' and chain {chain}'\n",
    "                if segi:\n",
    "                    sele+= f' and segi {segi}'\n",
    "                if alt:\n",
    "                    sele+= f' and alt {alt}'\n",
    "                # MOD: no asymmetric chain business here: too dangerous\n",
    "                xsele = f'(not ({sele})) and bound_to ({sele})'\n",
    "                covalency = False\n",
    "                if pymol.cmd.count_atoms(xsele):\n",
    "                    # crosslink\n",
    "                    covalency = True\n",
    "                    pymol.cmd.alter(xsele, 'elem=\"T\"')  # Chem.MolFromPDBBlock does not like *, R, X\n",
    "                    pymol.cmd.alter(xsele, 'name = \" X  \"')\n",
    "                    pymol.cmd.sort()\n",
    "                pymol.cmd.create('copied', f'bound_to ({sele})')\n",
    "                pymol.cmd.alter('%copied', 'alt=\"\"')\n",
    "                pymol.cmd.alter('%copied', 'segi=\"\"')\n",
    "                pymol.cmd.alter('%copied', 'chain=\"X\"')\n",
    "                pymol.cmd.alter('%copied', 'resi=\"1\"')\n",
    "                pymol.cmd.alter('%copied', f'resn=\"LIG\"')\n",
    "                pymol.cmd.sort()\n",
    "                # MOD\n",
    "                #neoname = f'{xstal_name}{fluff_marker}{i}'\n",
    "                chemcomp_tally[lig_resn] += 1\n",
    "                neoname = f'{lig_resn}{fluff_marker}{chemcomp_tally[lig_resn]}'\n",
    "                pdb_blocks[neoname] = pymol.cmd.get_pdbstr('%copied').replace('ATOM  ', 'HETATM')\n",
    "                pymol.cmd.delete('copied')\n",
    "                details[neoname] = {**row.to_dict(),  # mod\n",
    "                                    'covalent': covalency,\n",
    "                                    **dict(base_name=xstal_name,\n",
    "                                        lig_resn=lig_resn,\n",
    "                                         lig_resi=resi,\n",
    "                                         lig_chain=chain,\n",
    "                                         lig_segi=segi,\n",
    "                                         lig_alt=alt,\n",
    "                                         polymer_chain='A',)  # mod\n",
    "                                    }\n"
   ]
  },
  {
   "cell_type": "code",
   "execution_count": null,
   "metadata": {
    "collapsed": false,
    "jupyter": {
     "outputs_hidden": false
    }
   },
   "outputs": [],
   "source": [
    "# HACK FOR POLYMER\n",
    "\n",
    "from collections import defaultdict\n",
    "\n",
    "with pymol2.PyMOL() as pymol:\n",
    "    pymol.cmd.load('reference.pdb')\n",
    "    xstal_name = '2b0f'\n",
    "    pymol.cmd.fetch(xstal_name)\n",
    "    pymol.cmd.align(f'%{xstal_name} and chain A', 'reference')\n",
    "    pymol.cmd.delete('reference')\n",
    "    pymol.cmd.remove('chain A')\n",
    "    atom_tally = defaultdict(int)\n",
    "    for atom in pymol.cmd.get_model('chain B').atom:\n",
    "        atom_tally[atom.symbol] += 1\n",
    "        pymol.cmd.alter(f'name {atom.name}', f'name=\"{atom.symbol: >2}{atom_tally[atom.symbol]: <2}\"')\n",
    "    pymol.cmd.alter('*', 'alt=\"\"')\n",
    "    pymol.cmd.alter('*', 'segi=\"\"')\n",
    "    pymol.cmd.alter('*', 'chain=\"X\"')\n",
    "    pymol.cmd.alter('*', 'resi=\"1\"')\n",
    "    pymol.cmd.alter('*', 'resn=\"LIG\"')\n",
    "    pymol.cmd.sort()\n",
    "    neoname='polymer'\n",
    "    pymol.cmd.set('pdb_conect_all', 'on')\n",
    "    pdb_blocks[neoname] = pymol.cmd.get_pdbstr('*').replace('ATOM  ', 'HETATM')\n",
    "    details[neoname] = dict(base_name=xstal_name,\n",
    "                                        lig_resn=None,\n",
    "                                         lig_resi=1,\n",
    "                                         lig_chain='B',\n",
    "                                         lig_segi='',\n",
    "                                         lig_alt='',\n",
    "                                         polymer_chain='A',)"
   ]
  },
  {
   "cell_type": "code",
   "execution_count": null,
   "metadata": {
    "ExecuteTime": {
     "end_time": "2023-06-01T13:07:25.970712Z",
     "start_time": "2023-06-01T13:05:43.339261Z"
    },
    "collapsed": false,
    "jupyter": {
     "outputs_hidden": false
    }
   },
   "outputs": [],
   "source": [
    "smilesdex = {detail['lig_resn']: ph.get_smiles(detail['lig_resn']) for detail in details.values() if detail['lig_resn'] != 'LIG' and detail['lig_resn'] != 'UNL' and detail['lig_resn'] is not None}"
   ]
  },
  {
   "cell_type": "code",
   "execution_count": null,
   "metadata": {
    "ExecuteTime": {
     "end_time": "2023-06-01T13:07:57.421026Z",
     "start_time": "2023-06-01T13:07:57.415510Z"
    },
    "collapsed": false,
    "jupyter": {
     "outputs_hidden": false
    }
   },
   "outputs": [],
   "source": [
    "smilesdex['polymer'] = 'CCOC(=O)C=C[C@H](CCC(N)=O)NC(=O)[C@H](Cc1ccccc1)NC(=O)[C@H](CC(C)C)NC(=O)[C@H](C)NC(=O)[C@H](CCC([O-])=O)NC(=O)[C@H](CC(C)C)NC(C)=O'"
   ]
  },
  {
   "cell_type": "code",
   "execution_count": null,
   "metadata": {
    "ExecuteTime": {
     "end_time": "2023-06-01T13:07:57.892058Z",
     "start_time": "2023-06-01T13:07:57.884261Z"
    },
    "collapsed": false,
    "jupyter": {
     "outputs_hidden": false
    }
   },
   "outputs": [],
   "source": [
    "for detail in details.values():\n",
    "    detail['single_smiles'] = smilesdex.get(detail['lig_resn'], None)"
   ]
  },
  {
   "cell_type": "code",
   "execution_count": null,
   "metadata": {
    "ExecuteTime": {
     "end_time": "2023-06-01T13:07:59.047879Z",
     "start_time": "2023-06-01T13:07:58.612761Z"
    },
    "collapsed": false,
    "jupyter": {
     "outputs_hidden": false
    }
   },
   "outputs": [],
   "source": [
    "import json\n",
    "import pickle\n",
    "from rdkit import Chem\n",
    "from rdkit.Chem import AllChem, Draw\n",
    "\n",
    "smiles_col_name = 'single_smiles'\n",
    "\n",
    "mols = []\n",
    "baddies = []\n",
    "inorganics = []\n",
    "broken = []\n",
    "for name, block in pdb_blocks.items():\n",
    "    if block.strip().count('\\n') == 0:\n",
    "        print(f'No atoms in {name}')\n",
    "        broken.append(name)\n",
    "        continue\n",
    "    detail: dict = details[name]\n",
    "    mol = Chem.MolFromPDBBlock(block, proximityBonding='CONECT' not in block)\n",
    "    if mol is None:\n",
    "        print(f'Issue with sanitisation, trying without for {name}')\n",
    "        mol = Chem.MolFromPDBBlock(block, proximityBonding='CONECT' not in block, sanitize=False)\n",
    "    if len(mol.GetAtomsMatchingQuery(AllChem.AtomNumEqualsQueryAtom(6))) == 0:\n",
    "        print(f'No carbon atoms in {name}')\n",
    "        inorganics.append(name)\n",
    "        continue\n",
    "    tritium = mol.GetAtomsMatchingQuery(AllChem.IsotopeEqualsQueryAtom(3))\n",
    "    for atom in tritium:  #: Chem.Atom\n",
    "        atom.SetIsotope(0)\n",
    "        atom.SetAtomicNum(0)  # dummy atom is zahl zero\n",
    "    assert mol, f'{name} failed to load'\n",
    "    # MOD\n",
    "    #assert mol.GetNumAtoms() > 0 and mol.GetNumBonds() > 0, f'{name} failed to load'\n",
    "    assert mol.GetNumAtoms() > 0, f'{name} failed to load'\n",
    "    smiles = detail[smiles_col_name]\n",
    "    if smiles is None:\n",
    "        smiles=''\n",
    "    ref = Chem.MolFromSmiles(smiles)\n",
    "    try:\n",
    "        mol = AllChem.AssignBondOrdersFromTemplate(ref, mol)\n",
    "    except Exception as e:\n",
    "        print(f'Issue with bond orders for {name} - {e.__class__.__name__}{e}')\n",
    "        baddies.append(dict(name=name, block=block, mol=mol, ref=ref, detail=detail, exception=e))\n",
    "        # continue # MOD: These are PDB depositions they have bond order.\n",
    "    mol.SetProp('XChem_code', name.split('_')[0])\n",
    "    mol.SetProp('Occupancy', json.dumps([a.GetPDBResidueInfo().GetOccupancy() for a in mol.GetAtoms()]) )\n",
    "    mol.SetProp('TempFactor', json.dumps([a.GetPDBResidueInfo().GetTempFactor() for a in mol.GetAtoms()]) )\n",
    "    unprefixed = name.replace('D68EV3CPROA-', '')\n",
    "    mol.SetProp('_Name', unprefixed)\n",
    "    for k, v in detail.items():\n",
    "        if isinstance(v, dict):\n",
    "            v = json.dumps(v)\n",
    "        mol.SetProp(k, str(v))\n",
    "    for atom in mol.GetAtoms():\n",
    "        name = atom.GetPDBResidueInfo().GetName()\n",
    "        atom.SetProp('molFileAlias', name)\n",
    "    mols.append(mol)\n",
    "\n",
    "assert mols, 'No mols!'"
   ]
  },
  {
   "cell_type": "code",
   "execution_count": null,
   "metadata": {
    "ExecuteTime": {
     "end_time": "2023-06-01T13:08:02.810473Z",
     "start_time": "2023-06-01T13:08:02.805430Z"
    },
    "collapsed": false,
    "jupyter": {
     "outputs_hidden": false
    }
   },
   "outputs": [],
   "source": [
    "Draw.MolsToGridImage(mols)"
   ]
  },
  {
   "cell_type": "code",
   "execution_count": null,
   "metadata": {
    "ExecuteTime": {
     "end_time": "2023-06-01T13:08:03.634022Z",
     "start_time": "2023-06-01T13:08:03.628661Z"
    },
    "collapsed": false,
    "jupyter": {
     "outputs_hidden": false
    }
   },
   "outputs": [],
   "source": [
    "broken"
   ]
  },
  {
   "cell_type": "code",
   "execution_count": null,
   "metadata": {
    "ExecuteTime": {
     "end_time": "2023-06-01T13:08:04.013187Z",
     "start_time": "2023-06-01T13:08:04.005822Z"
    },
    "collapsed": false,
    "jupyter": {
     "outputs_hidden": false
    }
   },
   "outputs": [],
   "source": [
    "inorganics"
   ]
  },
  {
   "cell_type": "code",
   "execution_count": null,
   "metadata": {
    "ExecuteTime": {
     "end_time": "2023-06-01T13:08:04.789167Z",
     "start_time": "2023-06-01T13:08:04.780066Z"
    },
    "collapsed": false,
    "jupyter": {
     "outputs_hidden": false
    }
   },
   "outputs": [],
   "source": [
    "import operator\n",
    "\n",
    "*map(operator.itemgetter('name'), baddies),"
   ]
  },
  {
   "cell_type": "code",
   "execution_count": null,
   "metadata": {
    "ExecuteTime": {
     "end_time": "2023-06-01T13:08:05.387207Z",
     "start_time": "2023-06-01T13:08:05.355774Z"
    },
    "collapsed": false,
    "jupyter": {
     "outputs_hidden": false
    }
   },
   "outputs": [],
   "source": [
    "# Save\n",
    "\n",
    "with Chem.SDWriter('stolen_hits.sdf') as sdf:\n",
    "    for mol in mols:\n",
    "        if mol is None:\n",
    "            continue\n",
    "        sdf.write(mol)"
   ]
  },
  {
   "cell_type": "code",
   "execution_count": null,
   "metadata": {
    "ExecuteTime": {
     "end_time": "2023-06-01T13:08:39.062295Z",
     "start_time": "2023-06-01T13:08:38.864716Z"
    },
    "collapsed": false,
    "jupyter": {
     "outputs_hidden": false
    }
   },
   "outputs": [],
   "source": [
    "!rm *.cif"
   ]
  },
  {
   "cell_type": "code",
   "execution_count": null,
   "metadata": {
    "collapsed": false,
    "jupyter": {
     "outputs_hidden": false
    }
   },
   "outputs": [],
   "source": []
  },
  {
   "cell_type": "code",
   "execution_count": null,
   "metadata": {
    "ExecuteTime": {
     "end_time": "2023-06-01T12:57:15.209089Z",
     "start_time": "2023-06-01T12:57:15.169194Z"
    },
    "collapsed": false,
    "jupyter": {
     "outputs_hidden": false
    }
   },
   "outputs": [],
   "source": [
    "import clipboard\n",
    "\n",
    "clipboard.copy(Chem.MolToSmiles(mols[-1]))\n",
    "Chem.MolToSmiles(mols[-1])"
   ]
  },
  {
   "cell_type": "code",
   "execution_count": null,
   "metadata": {
    "ExecuteTime": {
     "end_time": "2023-06-01T13:07:39.481735Z",
     "start_time": "2023-06-01T13:07:39.477718Z"
    },
    "collapsed": false,
    "jupyter": {
     "outputs_hidden": false
    }
   },
   "outputs": [],
   "source": [
    "Chem.MolFromSmiles('CCOC(=O)C=C[C@H](CCC(N)=O)NC(=O)[C@H](Cc1ccccc1)NC(=O)[C@H](CC(C)C)NC(=O)[C@H](C)NC(=O)[C@H](CCC([O-])=O)NC(=O)[C@H](CC(C)C)NC(C)=O')"
   ]
  },
  {
   "cell_type": "code",
   "execution_count": null,
   "metadata": {
    "collapsed": false,
    "jupyter": {
     "outputs_hidden": false
    }
   },
   "outputs": [],
   "source": []
  }
 ],
 "metadata": {
  "kernelspec": {
   "display_name": "Python [conda env:py310]",
   "language": "python",
   "name": "conda-env-py310-py"
  },
  "language_info": {
   "codemirror_mode": {
    "name": "ipython",
    "version": 3
   },
   "file_extension": ".py",
   "mimetype": "text/x-python",
   "name": "python",
   "nbconvert_exporter": "python",
   "pygments_lexer": "ipython3",
   "version": "3.10.10"
  }
 },
 "nbformat": 4,
 "nbformat_minor": 4
}
