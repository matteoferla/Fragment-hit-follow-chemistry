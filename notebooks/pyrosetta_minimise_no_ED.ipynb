{
 "cells": [
  {
   "cell_type": "code",
   "execution_count": null,
   "metadata": {
    "ExecuteTime": {
     "end_time": "2023-05-30T15:10:41.064235Z",
     "start_time": "2023-05-30T15:10:41.060849Z"
    },
    "collapsed": true,
    "jupyter": {
     "outputs_hidden": true
    }
   },
   "outputs": [],
   "source": [
    "from pathlib import Path\n",
    "\n",
    "folder = Path('👾👾👾')\n",
    "target = folder / '👾👾👾.pdb'\n",
    "assert target.exists()"
   ]
  },
  {
   "cell_type": "code",
   "execution_count": null,
   "metadata": {
    "ExecuteTime": {
     "end_time": "2023-05-30T15:06:06.744511Z",
     "start_time": "2023-05-30T15:06:06.741021Z"
    },
    "collapsed": false,
    "jupyter": {
     "outputs_hidden": false
    }
   },
   "outputs": [],
   "source": [
    "import pyrosetta\n",
    "import pyrosetta_help as ph\n",
    "from types import ModuleType\n",
    "from IPython.display import display, HTML\n",
    "\n",
    "prc: ModuleType = pyrosetta.rosetta.core\n",
    "prp: ModuleType = pyrosetta.rosetta.protocols\n",
    "prcc: ModuleType = pyrosetta.rosetta.core.conformation\n",
    "pr_scoring: ModuleType = pyrosetta.rosetta.core.scoring\n",
    "\n",
    "logger = ph.configure_logger()\n",
    "pyrosetta.distributed.maybe_init(extra_options=ph.make_option_string(no_optH=False,\n",
    "                                                ex1=None,\n",
    "                                                ex2=None,\n",
    "                                                #mute='all',\n",
    "                                                ignore_unrecognized_res=True,\n",
    "                                                load_PDB_components=False,\n",
    "                                                ignore_waters=True)\n",
    "                               )"
   ]
  },
  {
   "cell_type": "code",
   "execution_count": null,
   "metadata": {
    "ExecuteTime": {
     "end_time": "2023-05-30T15:06:39.669924Z",
     "start_time": "2023-05-30T15:06:38.433054Z"
    },
    "collapsed": false,
    "jupyter": {
     "outputs_hidden": false
    }
   },
   "outputs": [],
   "source": [
    "pyrosetta.rosetta.basic.options.set_boolean_option('run:ignore_zero_occupancy', False)\n",
    "pyrosetta.rosetta.basic.options.set_boolean_option('in:auto_setup_metals', True)\n",
    "pose: pyrosetta.Pose = pyrosetta.pose_from_file(str(target.absolute()))"
   ]
  },
  {
   "cell_type": "code",
   "execution_count": null,
   "metadata": {
    "ExecuteTime": {
     "end_time": "2023-05-30T15:08:35.613209Z",
     "start_time": "2023-05-30T15:08:35.609246Z"
    },
    "collapsed": false,
    "jupyter": {
     "outputs_hidden": false
    }
   },
   "outputs": [],
   "source": [
    "from collections import Counter\n",
    "\n",
    "con_tally: dict = Counter([type(con).__name__ for con in pose.constraint_set().get_all_constraints()]).most_common()\n",
    "\n",
    "print('chains', prc.pose.conf2pdb_chain(pose))\n",
    "print('sequence', pose.sequence())\n",
    "print('Constraints present', con_tally)"
   ]
  },
  {
   "cell_type": "code",
   "execution_count": null,
   "metadata": {
    "ExecuteTime": {
     "end_time": "2023-05-30T15:09:44.783345Z",
     "start_time": "2023-05-30T15:09:44.780207Z"
    },
    "collapsed": false,
    "jupyter": {
     "outputs_hidden": false
    }
   },
   "outputs": [],
   "source": [
    "pose: pyrosetta.Pose = pose.split_by_chain(1)"
   ]
  },
  {
   "cell_type": "code",
   "execution_count": null,
   "metadata": {
    "ExecuteTime": {
     "end_time": "2023-05-30T15:30:24.405135Z",
     "start_time": "2023-05-30T15:10:53.521135Z"
    },
    "collapsed": false,
    "jupyter": {
     "outputs_hidden": false
    }
   },
   "outputs": [],
   "source": [
    "scorefxn: pr_scoring.ScoreFunction = pyrosetta.get_fa_scorefxn()\n",
    "scorefxn.set_weight(pr_scoring.ScoreType.coordinate_constraint, 5)\n",
    "scorefxn.set_weight(pr_scoring.ScoreType.angle_constraint, 5)\n",
    "scorefxn.set_weight(pr_scoring.ScoreType.atom_pair_constraint, 5)\n",
    "pyrosetta.rosetta.basic.options.set_boolean_option('relax:constrain_relax_to_start_coords', True)\n",
    "pyrosetta.rosetta.protocols.relax.FastRelax.register_options()\n",
    "relax = pyrosetta.rosetta.protocols.relax.FastRelax(scorefxn, 15)\n",
    "relax.constrain_relax_to_start_coords(True)\n",
    "relax.apply(pose)\n",
    "pose.dump_pdb('template.pdb')"
   ]
  },
  {
   "cell_type": "code",
   "execution_count": null,
   "metadata": {
    "ExecuteTime": {
     "end_time": "2023-05-30T16:12:38.855127Z",
     "start_time": "2023-05-30T16:12:38.002241Z"
    },
    "collapsed": false,
    "jupyter": {
     "outputs_hidden": false
    }
   },
   "outputs": [],
   "source": [
    "original: pyrosetta.Pose = pyrosetta.pose_from_file(str(target.absolute())).split_by_chain(1)\n",
    "prp.toolbox.CA_superimpose(original, pose)\n",
    "print(prc.simple_metrics.metrics.RMSDMetric(original).calculate(pose))\n",
    "pose.dump_pdb('template.pdb')"
   ]
  }
 ],
 "metadata": {
  "kernelspec": {
   "display_name": "Python [conda env:py310]",
   "language": "python",
   "name": "conda-env-py310-py"
  },
  "language_info": {
   "codemirror_mode": {
    "name": "ipython",
    "version": 3
   },
   "file_extension": ".py",
   "mimetype": "text/x-python",
   "name": "python",
   "nbconvert_exporter": "python",
   "pygments_lexer": "ipython3",
   "version": "3.10.10"
  }
 },
 "nbformat": 4,
 "nbformat_minor": 4
}
