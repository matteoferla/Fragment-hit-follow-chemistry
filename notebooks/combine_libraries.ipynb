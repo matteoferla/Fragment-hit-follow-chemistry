{
 "cells": [
  {
   "cell_type": "markdown",
   "source": [
    "This is the code to combine the libraries (file: 'combined-XChem-libraries.csv').\n",
    "Not to map them."
   ],
   "metadata": {
    "collapsed": false
   }
  },
  {
   "cell_type": "code",
   "execution_count": null,
   "id": "73e4dedf-f693-43a9-b512-c75429bff352",
   "metadata": {},
   "outputs": [],
   "source": [
    "import pandas as pd\n",
    "from rdkit.Chem.Draw import MolsToGridImage\n",
    "from rdkit import Chem\n",
    "\n",
    "dfs = []"
   ]
  },
  {
   "cell_type": "code",
   "execution_count": null,
   "id": "d7fe18fb-eb62-4542-9fdf-e15eff1ba95f",
   "metadata": {},
   "outputs": [],
   "source": [
    "keepers = {'Library Name': 'Id', 'SMILES': 'SMILES'}\n",
    "lib_name = 'York3D'\n",
    "df = pd.read_excel('York3d_DMSO_d6 platemap_corrected.xlsx')\n",
    "\n",
    "df = df.rename(columns=keepers)[keepers.values()]\n",
    "df['library'] = lib_name\n",
    "dfs.append(df)"
   ]
  },
  {
   "cell_type": "code",
   "execution_count": null,
   "id": "fd35fba1-ea79-486a-9924-0abb8efaebdb",
   "metadata": {},
   "outputs": [],
   "source": [
    "keepers = {'Catalog ID': 'Id', 'Smiles': 'SMILES', 'Chemical name': 'Name'}\n",
    "lib_name = 'DSiPoised'\n",
    "df = pd.read_excel('../Fragmenstein_collection/rescoring/DSiP_Batch-4_Plate1308634_PO8005504_DMSO.xlsx')\n",
    "\n",
    "df = df.rename(columns=keepers)[keepers.values()]\n",
    "df['library'] = lib_name\n",
    "dfs.append(df)"
   ]
  },
  {
   "cell_type": "code",
   "execution_count": null,
   "id": "b5083200-4338-4776-992a-adf0a41cd614",
   "metadata": {},
   "outputs": [],
   "source": [
    "keepers = {'COMPOUND_ID': 'Id', 'Smiles': 'SMILES', 'IUPAC_NAME': 'Name'}\n",
    "lib_name = 'Euopen'\n",
    "filename = '/Users/matteo/Downloads/Euopen_screen_with_smiles.xlsx'\n",
    "\n",
    "df = pd.read_excel(filename)\n",
    "df = df.rename(columns=keepers)[keepers.values()]\n",
    "df['library'] = lib_name\n",
    "dfs.append(df)"
   ]
  },
  {
   "cell_type": "code",
   "execution_count": null,
   "id": "2939982e-b517-4d3d-bf3e-9ddd78fe5199",
   "metadata": {},
   "outputs": [],
   "source": [
    "keepers = {'LDS ID': 'Id', 'Smiles': 'SMILES'}\n",
    "lib_name = 'Leed3D'\n",
    "filename = '/Users/matteo/Downloads/Leeds3D.xlsx'\n",
    "\n",
    "df = pd.read_excel(filename)\n",
    "df = df.rename(columns=keepers)[keepers.values()]\n",
    "df['library'] = lib_name\n",
    "dfs.append(df)"
   ]
  },
  {
   "cell_type": "code",
   "execution_count": null,
   "id": "5f009d9e-7b03-496d-a1ae-585a46690480",
   "metadata": {},
   "outputs": [],
   "source": [
    "keepers = {'Catalog_ID': 'Id', 'Smile': 'SMILES', 'Name': 'Name'}\n",
    "lib_name = 'Leed3D'\n",
    "filename = '/Users/matteo/Downloads/H92015274.xlsx'\n",
    "\n",
    "df = pd.read_excel(filename)\n",
    "df = df.rename(columns=keepers)[keepers.values()]\n",
    "df['library'] = lib_name\n",
    "dfs.append(df)"
   ]
  },
  {
   "cell_type": "code",
   "execution_count": null,
   "id": "36537537-9142-4961-b56e-5b060412c45b",
   "metadata": {},
   "outputs": [],
   "source": [
    "keepers = {'Compound Name (Internal)': 'Id', 'SMILES': 'SMILES'}\n",
    "lib_name = 'Cambridge3D'\n",
    "filename = '/Users/matteo/Downloads/SKiddLibrary.xlsx'\n",
    "\n",
    "df = pd.read_excel(filename)\n",
    "df = df.rename(columns=keepers)[keepers.values()]\n",
    "df['library'] = lib_name\n",
    "dfs.append(df)"
   ]
  },
  {
   "cell_type": "code",
   "execution_count": null,
   "id": "75606fe9-5126-458a-a5f6-f824cf2f55f9",
   "metadata": {},
   "outputs": [],
   "source": [
    "keepers = {'Code': 'Id', 'SMILES': 'SMILES'}\n",
    "lib_name = 'FragLite'\n",
    "filename = '/Users/matteo/Downloads/ECHO_FragLiteSET1.xlsx'\n",
    "\n",
    "df = pd.read_excel(filename)\n",
    "df = df.rename(columns=keepers)[keepers.values()]\n",
    "df['library'] = lib_name\n",
    "dfs.append(df)"
   ]
  },
  {
   "cell_type": "code",
   "execution_count": null,
   "id": "27444093-809d-4db9-8545-a6a3451af72d",
   "metadata": {},
   "outputs": [],
   "source": [
    "keepers = {'Library Name': 'Id', 'SMILES': 'SMILES'}\n",
    "lib_name = 'PepLite'\n",
    "filename = '/Users/matteo/Downloads/ECHO_PepLite_DMSO.xlsx'\n",
    "\n",
    "df = pd.read_excel(filename)\n",
    "df = df.rename(columns=keepers)[keepers.values()]\n",
    "df['library'] = lib_name\n",
    "dfs.append(df)"
   ]
  },
  {
   "cell_type": "code",
   "execution_count": null,
   "id": "e5558e69-a036-4dee-bfe4-48ea9f1edfc1",
   "metadata": {},
   "outputs": [],
   "source": [
    "keepers = {'catalogID': 'Id', 'Smile': 'SMILES', 'Name': 'Name'}\n",
    "lib_name = 'SpotXplorer'\n",
    "filename = '/Users/matteo/Downloads/Diamond_1536-well_6_plates_3copies.xlsx'\n",
    "\n",
    "df = pd.read_excel(filename)\n",
    "df = df[df.ID.str.contains('SF')]\n",
    "df = df.rename(columns=keepers)[keepers.values()]\n",
    "df['library'] = lib_name\n",
    "dfs.append(df)"
   ]
  },
  {
   "cell_type": "code",
   "execution_count": null,
   "id": "972ff9f3-5606-45e7-9126-f47c44e35913",
   "metadata": {},
   "outputs": [],
   "source": [
    "keepers = {'catalogID': 'Id', 'Smile': 'SMILES', 'Name': 'Name'}\n",
    "lib_name = 'CovHetFrags'\n",
    "filename = '/Users/matteo/Downloads/Diamond_1536-well_6_plates_3copies.xlsx'\n",
    "\n",
    "df = pd.read_excel(filename)\n",
    "df = df[df.ID.str.contains('Cov_HetLib')]\n",
    "df = df.rename(columns=keepers)[keepers.values()]\n",
    "df['library'] = lib_name\n",
    "dfs.append(df)"
   ]
  },
  {
   "cell_type": "code",
   "execution_count": null,
   "id": "8d451b32-1e05-4b78-a158-1f0469a39023",
   "metadata": {},
   "outputs": [],
   "source": [
    "combo = pd.concat(dfs)"
   ]
  },
  {
   "cell_type": "code",
   "execution_count": null,
   "id": "bb935d64-661c-49a0-a572-2539dd3eb65e",
   "metadata": {},
   "outputs": [],
   "source": [
    "# acetate causes issues...\n",
    "combo['raw_SMILES'] = combo['SMILES']\n",
    "combo['SMILES'] = combo.SMILES.apply(lambda v: sorted(v.split('.'), key=len, reverse=True)[0])"
   ]
  },
  {
   "cell_type": "code",
   "execution_count": null,
   "id": "720e6190-10c9-4e4c-b132-6c8111672072",
   "metadata": {},
   "outputs": [],
   "source": [
    "from rdkit import Chem\n",
    "combo['inchikey'] = combo.SMILES.apply(Chem.MolFromSmiles).apply(Chem.MolToInchiKey)"
   ]
  },
  {
   "cell_type": "code",
   "execution_count": null,
   "id": "c5be3453-7574-484d-ba5c-1b8d801f35c5",
   "metadata": {
    "jupyter": {
     "source_hidden": true
    },
    "tags": []
   },
   "outputs": [],
   "source": [
    "from collections import defaultdict\n",
    "# technically could be done w/ the reverse of a pivot table or meld... but shmeh.\n",
    "\n",
    "alt = defaultdict(list)\n",
    "for i, row in combo.loc[combo.duplicated('inchikey', False)].iterrows():\n",
    "    alt[row.inchikey].append(row.library)\n",
    "    \n",
    "combo['also_in'] = ''\n",
    "\n",
    "for i, row in combo.loc[combo.duplicated('inchikey', False)].iterrows():\n",
    "    combo.at[i, 'also_in'] = ','.join(sorted(set(alt[row.inchikey]) - {row.library}))"
   ]
  },
  {
   "cell_type": "code",
   "execution_count": null,
   "id": "f267a9ff-7977-4531-93f5-abd751ceeaa6",
   "metadata": {},
   "outputs": [],
   "source": [
    "# No screamcaps\n",
    "\n",
    "def fix(name):\n",
    "    if name == name.upper():\n",
    "        return name.lower()\n",
    "    return name\n",
    "\n",
    "combo['Murcko_name'] = combo.Murcko_name.fillna('').apply(fix)"
   ]
  },
  {
   "cell_type": "code",
   "execution_count": null,
   "id": "66aec08f-7bbb-4088-b309-862daa4bf0a5",
   "metadata": {},
   "outputs": [],
   "source": [
    "combo[['Id', 'library', 'also_in', 'Name', 'SMILES', 'raw_SMILES', 'inchikey', 'N_heavy_atoms',\n",
    "       'Murcko', 'Murcko_name']].to_csv('combined-XChem-libraries.csv')"
   ]
  },
  {
   "cell_type": "code",
   "execution_count": null,
   "id": "5c4d6260-b1a8-4678-b3ea-8022331ce19d",
   "metadata": {},
   "outputs": [],
   "source": []
  }
 ],
 "metadata": {
  "kernelspec": {
   "display_name": "Python [conda env:py310]",
   "language": "python",
   "name": "conda-env-py310-py"
  },
  "language_info": {
   "codemirror_mode": {
    "name": "ipython",
    "version": 3
   },
   "file_extension": ".py",
   "mimetype": "text/x-python",
   "name": "python",
   "nbconvert_exporter": "python",
   "pygments_lexer": "ipython3",
   "version": "3.10.10"
  }
 },
 "nbformat": 4,
 "nbformat_minor": 5
}
