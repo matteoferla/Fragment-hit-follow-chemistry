{
 "cells": [
  {
   "cell_type": "markdown",
   "id": "70512b1d-f499-42e4-bff2-0614bb44baa2",
   "metadata": {},
   "source": [
    "## Plan\n",
    "\n",
    "\n",
    "\n",
    "> incomplete"
   ]
  },
  {
   "cell_type": "code",
   "execution_count": null,
   "id": "2490adc6-afa7-4230-9d45-12ceb4498912",
   "metadata": {},
   "outputs": [],
   "source": [
    "from rdkit import Chem\n",
    "from rdkit.Chem import AllChem, Draw, PandasTools, BRICS\n",
    "from rdkit.Chem.Draw import IPythonConsole\n",
    "import pandas as pd\n",
    "import pandera.typing as pdt\n",
    "from typing import List, Dict\n",
    "\n",
    "with Chem.SDMolSupplier('fragmented_hits.sdf') as sd:\n",
    "    hits: Dict[str, Chem.Mol] = {mol.GetProp('_Name'): mol for mol in sd}\n",
    "    \n",
    "with Chem.SDMolSupplier('trimmed_x0771-x1604.sdf') as sds:\n",
    "    for hit in sds:\n",
    "        h_name = hit.GetProp('_Name')\n",
    "        hits[h_name] = hit\n",
    "    \n",
    "    \n",
    "with open('reference.pdb') as fh:\n",
    "    pdbblock = fh.read()\n",
    "    \n",
    "# ------------------------------------------------------\n",
    "    \n",
    "import logging\n",
    "import pyrosetta_help as ph\n",
    "import pyrosetta\n",
    "from types import ModuleType\n",
    "\n",
    "prc: ModuleType = pyrosetta.rosetta.core\n",
    "prp: ModuleType = pyrosetta.rosetta.protocols\n",
    "prn: ModuleType = pyrosetta.rosetta.numeric\n",
    "prcc: ModuleType = pyrosetta.rosetta.core.conformation\n",
    "pr_scoring: ModuleType = pyrosetta.rosetta.core.scoring\n",
    "pr_simple: ModuleType = prp.simple_moves\n",
    "pr_rsele: ModuleType = prc.select.residue_selector\n",
    "\n",
    "logger = ph.configure_logger()\n",
    "logger.handlers[0].setLevel(logging.ERROR)  # logging.WARNING = 30\n",
    "extra_options = ph.make_option_string(no_optH=False,\n",
    "                                      ex1=None,\n",
    "                                      ex2=None,\n",
    "                                      #mute='all',\n",
    "                                      ignore_unrecognized_res=True,\n",
    "                                      load_PDB_components=False,\n",
    "                                      ignore_waters=True)\n",
    "pyrosetta.init(extra_options=extra_options)"
   ]
  }
 ],
 "metadata": {
  "kernelspec": {
   "display_name": "Python [conda env:py310]",
   "language": "python",
   "name": "conda-env-py310-py"
  },
  "language_info": {
   "codemirror_mode": {
    "name": "ipython",
    "version": 3
   },
   "file_extension": ".py",
   "mimetype": "text/x-python",
   "name": "python",
   "nbconvert_exporter": "python",
   "pygments_lexer": "ipython3",
   "version": "3.10.10"
  }
 },
 "nbformat": 4,
 "nbformat_minor": 5
}
