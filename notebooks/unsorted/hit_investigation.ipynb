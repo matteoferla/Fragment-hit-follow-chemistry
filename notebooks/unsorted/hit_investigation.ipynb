{
 "cells": [
  {
   "cell_type": "code",
   "execution_count": null,
   "id": "654034b9-b07c-4d12-9980-04975e09b81f",
   "metadata": {
    "ExecuteTime": {
     "end_time": "2023-06-12T09:39:09.954102Z",
     "start_time": "2023-06-12T09:39:09.939432Z"
    }
   },
   "outputs": [],
   "source": [
    "import os\n",
    "from pathlib import Path\n",
    "root = Path('/Users/user/Coding/EV-D68-3C-protease/')\n",
    "os.chdir(root)"
   ]
  },
  {
   "cell_type": "code",
   "execution_count": null,
   "id": "87e96637-e396-4e2d-beb6-c1909e9cb293",
   "metadata": {},
   "outputs": [],
   "source": [
    "import pymol2\n",
    "\n",
    "with pymol2.PyMOL() as pymol:\n",
    "    pymol.cmd.load('combo.pse')\n",
    "    pymol.cmd.split_states('hits')\n",
    "    nearby = pymol.cmd.get_object_list(selection='resn UNK and byres /D68EV3CPROA-x1741_0B_bound//A/HIS`161/NE2 around 3')"
   ]
  },
  {
   "cell_type": "code",
   "execution_count": null,
   "id": "3d9f8328-9182-4940-9f4e-a9be430b96d9",
   "metadata": {},
   "outputs": [],
   "source": [
    "nearby"
   ]
  },
  {
   "cell_type": "code",
   "execution_count": null,
   "id": "f9f47812-26ed-4ade-baa8-1ee5a2707e1e",
   "metadata": {},
   "outputs": [],
   "source": [
    "from rdkit import Chem\n",
    "\n",
    "with Chem.SDMolSupplier('filtered_hits.sdf') as sds:\n",
    "    hits = list(sds)"
   ]
  },
  {
   "cell_type": "code",
   "execution_count": null,
   "id": "5f7b5efe-bbd7-40c7-97aa-18f9c7402aeb",
   "metadata": {},
   "outputs": [],
   "source": [
    "[n.split('_')[0] for n in nearby]"
   ]
  },
  {
   "cell_type": "code",
   "execution_count": null,
   "id": "7732ffef-caaa-425f-a1c6-3ff7be4b1444",
   "metadata": {},
   "outputs": [],
   "source": [
    "from rdkit.Chem import Draw, AllChem\n",
    "\n",
    "flattos = {h.GetProp('_Name').split('L')[0]: Chem.Mol(h) for h in hits}\n",
    "*map(AllChem.Compute2DCoords, flattos.values()),\n",
    "\n",
    "flattos = {k:v for k,v in flattos.items() if k in [n.split('_')[0] for n in nearby]}\n",
    "\n",
    "Draw.MolsToGridImage(list(flattos.values()), legends=list(flattos.keys()))"
   ]
  },
  {
   "cell_type": "code",
   "execution_count": null,
   "id": "110639b5-a9b6-4392-90ad-4591f60b22b1",
   "metadata": {},
   "outputs": [],
   "source": [
    "with open('H161_friends.png', 'wb') as fh:\n",
    "    fh.write(_.data)"
   ]
  },
  {
   "cell_type": "code",
   "execution_count": null,
   "id": "f5369d58-3802-41fb-a66f-f37ffeb44d98",
   "metadata": {},
   "outputs": [],
   "source": [
    "!ls"
   ]
  },
  {
   "cell_type": "code",
   "execution_count": null,
   "id": "6067ee7d-f69f-44a1-ae58-d965be4fca36",
   "metadata": {},
   "outputs": [],
   "source": [
    "x1604 = {h.GetProp('_Name'): h for h in hits}['x1604L0AP1']\n",
    "x1604"
   ]
  },
  {
   "cell_type": "code",
   "execution_count": null,
   "id": "c0f14fb3-93a6-46b2-b93c-e9b0d2e24665",
   "metadata": {},
   "outputs": [],
   "source": [
    "Chem.MolToSmiles(x1604)"
   ]
  },
  {
   "cell_type": "code",
   "execution_count": null,
   "id": "017ff241-dadc-4d51-bad8-2e30b9322a5c",
   "metadata": {},
   "outputs": [],
   "source": [
    "bromophenol = Chem.MolFromSmiles('c1cc(Br)c(O)cc1')\n",
    "bromophenol = Chem.MolFromSmarts('c1:c:c(-Br):c(-[OH1]):c:c:1')\n",
    "\n",
    "import gzip\n",
    "\n",
    "expansions = []\n",
    "\n",
    "with gzip.open('../Functional-subsets-of-Enamine-BB/Enamine_BB_halogen.sdf.gz') as fh:\n",
    "    with Chem.ForwardSDMolSupplier(fh) as s:\n",
    "        for mol in s:\n",
    "            if mol.HasSubstructMatch(bromophenol):\n",
    "                expansions.append(mol)"
   ]
  },
  {
   "cell_type": "code",
   "execution_count": null,
   "id": "757f963e-c90d-4410-974b-94187f8b0966",
   "metadata": {},
   "outputs": [],
   "source": [
    "expansions[0]"
   ]
  },
  {
   "cell_type": "code",
   "execution_count": null,
   "id": "4e7353be-e022-4155-bb99-e53602941b36",
   "metadata": {},
   "outputs": [],
   "source": [
    "len(expansions)"
   ]
  },
  {
   "cell_type": "code",
   "execution_count": null,
   "id": "f0ecd31d-fcab-4992-a2d3-ce0f10ea3ad6",
   "metadata": {},
   "outputs": [],
   "source": [
    "with Chem.SDWriter('bromophenolics.sdf') as sd:\n",
    "    for mol in expansions:\n",
    "        sd.write(mol)"
   ]
  },
  {
   "cell_type": "code",
   "execution_count": null,
   "id": "845d3a6e-f968-4005-bd4a-e10569effafc",
   "metadata": {},
   "outputs": [],
   "source": [
    "from rdkit.Chem import PandasTools\n",
    "import pandas as pd\n",
    "from pathlib import Path\n",
    "\n",
    "path = Path.home() / 'Coding' / 'EV-D68-3C-protease' / '02_hit-prep' / 'combined_libraries.csv'\n",
    "\n",
    "libraries = pd.read_csv(path)"
   ]
  },
  {
   "cell_type": "code",
   "execution_count": null,
   "id": "65b40589-3c5e-4789-9a44-386e3d9e3404",
   "metadata": {},
   "outputs": [],
   "source": [
    "libraries"
   ]
  },
  {
   "cell_type": "code",
   "execution_count": null,
   "id": "30bdb1d8-5e2b-4577-b0a1-29582e53320a",
   "metadata": {},
   "outputs": [],
   "source": [
    "# this does not decompose\n",
    "\n",
    "from rdkit.Chem import BRICS\n",
    "\n",
    "BRICS.BRICSDecompose(x1604)"
   ]
  },
  {
   "cell_type": "code",
   "execution_count": null,
   "id": "89d84463-2e5a-428b-bdc1-7004887adcd3",
   "metadata": {},
   "outputs": [],
   "source": [
    "!ls"
   ]
  },
  {
   "cell_type": "code",
   "execution_count": null,
   "id": "31fbc07e-53be-4911-a018-173e27241cfd",
   "metadata": {},
   "outputs": [],
   "source": []
  },
  {
   "cell_type": "code",
   "execution_count": null,
   "id": "7a62db93-49af-4c44-8bc3-5f842706978c",
   "metadata": {},
   "outputs": [],
   "source": [
    "x0771 = {h.GetProp('_Name'): h for h in hits}['x0771L0AP1']\n",
    "x0771"
   ]
  },
  {
   "cell_type": "code",
   "execution_count": null,
   "id": "522bee31-999f-45fa-ba6f-631593ae41bd",
   "metadata": {},
   "outputs": [],
   "source": [
    "\n",
    "Chem.MolToMolFile(x1604, 'x1604.mol')\n",
    "Chem.MolToMolFile(x0771, 'x0771.mol')"
   ]
  },
  {
   "cell_type": "code",
   "execution_count": null,
   "id": "d8c52145-4e20-4cf2-989a-989845fd4859",
   "metadata": {},
   "outputs": [],
   "source": [
    "Chem.MolToMolFile(Chem.MolFromPDBBlock('''CRYST1   42.834   62.708  147.514  90.00  90.00  90.00 P 21 21 21    1\n",
    "HETATM    1  O   LIG S  83      -6.112  12.505 -25.876  1.00 29.61           O  \n",
    "HETATM    2  O   LIG S 164      -6.370   6.502 -34.522  1.00 40.58           O  \n",
    "END'''), 'nice_HOH.mol')"
   ]
  },
  {
   "cell_type": "code",
   "execution_count": null,
   "id": "c7607b25-f49c-4b45-93aa-dbc3d2d875fb",
   "metadata": {},
   "outputs": [],
   "source": [
    "\n",
    "    "
   ]
  },
  {
   "cell_type": "code",
   "execution_count": null,
   "id": "4465d720-c193-41cd-ab77-f637270809a2",
   "metadata": {},
   "outputs": [],
   "source": []
  },
  {
   "cell_type": "code",
   "execution_count": null,
   "id": "574e2be0-7fea-48c6-b564-dc1f25378920",
   "metadata": {},
   "outputs": [],
   "source": []
  },
  {
   "cell_type": "code",
   "execution_count": null,
   "id": "0c756622-1d24-4344-b0ba-26a8ef4a9409",
   "metadata": {},
   "outputs": [],
   "source": [
    "from rdkit import Geometry\n",
    "\n",
    "def get_bromine_pos(mol) -> Geometry.Point3D:\n",
    "    bromine_zahl = 35\n",
    "    bromine: Chem.Atom = next(mol.GetAtomsMatchingQuery(Chem.rdqueries.AtomNumEqualsQueryAtom(bromine_zahl)))\n",
    "    br_idx: int = bromine.GetIdx()\n",
    "    return mol.GetConformer().GetAtomPosition(br_idx)\n",
    "\n",
    "ref = get_bromine_pos(x1604)\n",
    "ref"
   ]
  },
  {
   "cell_type": "code",
   "execution_count": null,
   "id": "847ab6d2-7c53-496c-b879-9fd25a094edf",
   "metadata": {},
   "outputs": [],
   "source": [
    "\n",
    "with Chem.SDMolSupplier('rocs-monster2.sdf') as sdr, Chem.SDWriter('rocs-monster2.filtered.sdf') as sdw:\n",
    "    for mol in sdr:\n",
    "        if get_bromine_pos(mol).Distance(ref) > 1.:\n",
    "            continue\n",
    "        sdw.write(mol)\n",
    "        "
   ]
  },
  {
   "cell_type": "code",
   "execution_count": null,
   "id": "487943f9-5329-4117-beb0-84c4adb2a1f0",
   "metadata": {},
   "outputs": [],
   "source": [
    "x1604.GetPropsAsDict()"
   ]
  },
  {
   "cell_type": "code",
   "execution_count": null,
   "id": "557ae739-fd2b-41eb-962e-8640af1170b3",
   "metadata": {},
   "outputs": [],
   "source": []
  },
  {
   "cell_type": "code",
   "execution_count": null,
   "id": "6bafbf5e-79ea-41c6-9f73-769aa781dc88",
   "metadata": {},
   "outputs": [],
   "source": [
    "# 3-bromo-4-methylpyridin-2-ol\n",
    "paramethylbromopyridinol = Chem.MolFromSmarts('c1:c(-C):c(-Br):c(-[OH1]):n:c:1')\n",
    "# 3-bromo-5-methylpyridin-2-ol\n",
    "metamethylbromopyridinol = Chem.MolFromSmarts('c1(-C):c:c(-Br):c(-[OH1]):n:c:1')\n",
    "metamethylbromopyridinol"
   ]
  },
  {
   "cell_type": "code",
   "execution_count": null,
   "id": "61c7c476-f892-4458-8d79-8d4435d80dde",
   "metadata": {},
   "outputs": [],
   "source": [
    "expansions = []\n",
    "\n",
    "with gzip.open('../Functional-subsets-of-Enamine-BB/Enamine_BB_halogen.sdf.gz') as fh:\n",
    "    with Chem.ForwardSDMolSupplier(fh) as s:\n",
    "        for mol in s:\n",
    "            if mol.HasSubstructMatch(metamethylbromopyridinol) or mol.HasSubstructMatch(paramethylbromopyridinol):\n",
    "                expansions.append(mol)"
   ]
  },
  {
   "cell_type": "code",
   "execution_count": null,
   "id": "d7bbb764-bfaa-42b8-988b-110df09cb687",
   "metadata": {},
   "outputs": [],
   "source": [
    "from rdkit.Chem import TemplateAlign\n",
    "\n",
    "ref = Chem.MolFromSmiles('c1:c:c(-Br):c(-[OH1]):n:c:1')\n",
    "AllChem.Compute2DCoords(ref)\n",
    "\n",
    "for mol in expansions:\n",
    "    TemplateAlign.AlignMolToTemplate2D(mol, ref, clearConfs=True)"
   ]
  },
  {
   "cell_type": "code",
   "execution_count": null,
   "id": "6329e023-ff6b-49db-91b1-82b8e0137d3a",
   "metadata": {},
   "outputs": [],
   "source": [
    "Draw.MolsToGridImage(expansions, legends=[m.GetProp('id') for m in expansions])"
   ]
  },
  {
   "cell_type": "code",
   "execution_count": null,
   "id": "3ccde4eb-56a9-4daf-8df6-17afab280085",
   "metadata": {},
   "outputs": [],
   "source": [
    "with open('images/bromomethylpyridinol-BB.png', 'wb') as fh:\n",
    "    fh.write(_.data)"
   ]
  },
  {
   "cell_type": "code",
   "execution_count": null,
   "id": "53c95d1b-a821-4825-82ce-051f5845237e",
   "metadata": {},
   "outputs": [],
   "source": [
    "Chem.MolFromSmiles('c1:c(-C):c(-Br):c(-[OH1]):n:c:1')"
   ]
  },
  {
   "cell_type": "code",
   "execution_count": null,
   "id": "8fb4b0e2-6380-469a-9a56-c614a709948f",
   "metadata": {},
   "outputs": [],
   "source": [
    "from STOUT import translate_forward\n",
    "\n",
    "translate_forward(Chem.MolToSmiles(Chem.MolFromSmiles('c1:c:c(-Br):c(-[OH1]):c(-[NH2]):c:1')))"
   ]
  },
  {
   "cell_type": "code",
   "execution_count": null,
   "id": "b62e527b-3838-4a3c-90ca-2c21e8d3c58f",
   "metadata": {},
   "outputs": [],
   "source": [
    "Chem.MolToSmiles(Chem.MolFromSmiles('c1:c:c(-Br):c(-[OH1]):c(-[NH2]):c:1'))"
   ]
  },
  {
   "cell_type": "code",
   "execution_count": null,
   "id": "075edb1c-ca25-416d-b778-d08a9201ba77",
   "metadata": {},
   "outputs": [],
   "source": [
    "Chem.MolFromSmarts('c1(-Cl):c:c(-Br):c(-[OH1]):c(-N):c:1')"
   ]
  },
  {
   "cell_type": "code",
   "execution_count": null,
   "id": "ed9470e4-46c8-4e56-9512-1ef7ff1dc83f",
   "metadata": {},
   "outputs": [],
   "source": [
    "ref"
   ]
  },
  {
   "cell_type": "code",
   "execution_count": null,
   "id": "dcc4d0f7-3bb3-4da3-8acd-da1213998a69",
   "metadata": {},
   "outputs": [],
   "source": [
    "expansions = []\n",
    "\n",
    "ref = Chem.MolFromSmarts('c1:c(-Cl):c(-Br):c(-[OH1]):c(-N):c:1')\n",
    "\n",
    "with gzip.open('../Functional-subsets-of-Enamine-BB/Enamine_BB_halogen.sdf.gz') as fh:\n",
    "    with Chem.ForwardSDMolSupplier(fh) as s:\n",
    "        for mol in s:\n",
    "            if mol.HasSubstructMatch(ref):\n",
    "                expansions.append(mol)\n",
    "                    \n",
    "                    \n",
    "print(len(expansions))\n",
    "\n",
    "AllChem.Compute2DCoords(ref)\n",
    "\n",
    "for mol in expansions:\n",
    "    TemplateAlign.AlignMolToTemplate2D(mol, ref, clearConfs=True)\n",
    "    \n",
    "Draw.MolsToGridImage(expansions, legends=[m.GetProp('id') for m in expansions]) "
   ]
  },
  {
   "cell_type": "code",
   "execution_count": null,
   "id": "c88ff658-0764-4552-847b-ce98ce4dd5bd",
   "metadata": {},
   "outputs": [],
   "source": [
    "# with open('images/amino-6-bromophenol-BB.png', 'wb') as fh:\n",
    "#     fh.write(_.data)"
   ]
  },
  {
   "cell_type": "code",
   "execution_count": null,
   "id": "de389500-275a-46bb-899b-0eaede61872a",
   "metadata": {},
   "outputs": [],
   "source": [
    "# place against x1604\n",
    "\n",
    "'c1cc(-Br)c(-[OH1])c(-N)c1'\n",
    "'c1cc(-Br)c(-[OH1])nc1'\n",
    "'c1cc(-Br)c(-[OH1])cc1'\n",
    "\n",
    "# place against 0x771\n",
    "\n",
    "'NC(=O)c1ccc2c(c1)CCN2'\n",
    "'NC(=O)c1cccc(c1)'"
   ]
  },
  {
   "cell_type": "code",
   "execution_count": null,
   "id": "2b43c004-f348-4055-8d9d-0750ee5c3007",
   "metadata": {},
   "outputs": [],
   "source": [
    "from rdkit import Chem\n",
    "from rdkit.Chem import AllChem, Draw, PandasTools, BRICS\n",
    "from rdkit.Chem.Draw import IPythonConsole\n",
    "import pandas as pd\n",
    "import pandera.typing as pdt\n",
    "from typing import List, Dict\n",
    "\n",
    "hitdex: Dict[str, Chem.Mol] = {}\n",
    "with Chem.SDMolSupplier('hits.sdf') as sds:\n",
    "    for mol in sds:\n",
    "        hitdex[mol.GetProp('_Name')] = mol\n",
    "    \n",
    "    \n",
    "with open('reference.pdb') as fh:\n",
    "    pdbblock = fh.read()\n",
    "    \n",
    "# ------------------------------------------------------\n",
    "    \n",
    "import logging\n",
    "import pyrosetta_help as ph\n",
    "import pyrosetta\n",
    "\n",
    "logger = ph.configure_logger()\n",
    "logger.handlers[0].setLevel(logging.ERROR)  # logging.WARNING = 30\n",
    "extra_options = ph.make_option_string(no_optH=False,\n",
    "                                      ex1=None,\n",
    "                                      ex2=None,\n",
    "                                      #mute='all',\n",
    "                                      ignore_unrecognized_res=True,\n",
    "                                      load_PDB_components=False,\n",
    "                                      ignore_waters=True)\n",
    "pyrosetta.init(extra_options=extra_options)"
   ]
  },
  {
   "cell_type": "code",
   "execution_count": null,
   "id": "527dd3a7-bab2-4b6d-ba26-002ee535bd22",
   "metadata": {},
   "outputs": [],
   "source": []
  },
  {
   "cell_type": "code",
   "execution_count": null,
   "id": "db86b5fb-f7aa-4134-b5fa-000e0d7c68f0",
   "metadata": {},
   "outputs": [],
   "source": [
    "import logging\n",
    "\n",
    "Victor.enable_stdout(logging.ERROR)\n",
    "Victor.journal.setLevel(logging.ERROR)\n",
    "\n",
    "vicky = Victor([x1604], pdb_block=pdbblock)"
   ]
  },
  {
   "cell_type": "code",
   "execution_count": null,
   "id": "06f60f9d-76c1-42ed-92ea-caaafefb3e22",
   "metadata": {},
   "outputs": [],
   "source": [
    "vicky.place('c1cc(-Br)c(-[OH1])c(-N)c1', long_name='aminobromophenol')\n",
    "vicky.summarize()"
   ]
  },
  {
   "cell_type": "code",
   "execution_count": null,
   "id": "5fa12f5e-d5df-4471-bf2b-d59cacb52b7b",
   "metadata": {},
   "outputs": [],
   "source": []
  },
  {
   "cell_type": "code",
   "execution_count": null,
   "id": "80bae18d-92ee-4fbe-a2d4-ea1459398d28",
   "metadata": {},
   "outputs": [],
   "source": [
    "vicky.place('c1cc(-Br)c(-[OH1])c(-CN)c1', long_name='aminomethylbromophenol')\n",
    "vicky.summarize()"
   ]
  },
  {
   "cell_type": "code",
   "execution_count": null,
   "id": "58ee3b6e-55d7-45f6-ba65-c4e36284342d",
   "metadata": {},
   "outputs": [],
   "source": [
    "vicky.place('c1cc(-Br)c(-[OH1])cc1', long_name='bromophenol')\n",
    "vicky.summarize()"
   ]
  },
  {
   "cell_type": "code",
   "execution_count": null,
   "id": "b74737ea-40a8-4f7c-b791-714765d2ed63",
   "metadata": {},
   "outputs": [],
   "source": [
    "vicky.place('c1cc(-Br)c(-[OH1])nc1', long_name='bromopyrimidol')\n",
    "vicky.summarize()"
   ]
  },
  {
   "cell_type": "code",
   "execution_count": null,
   "id": "fd5a7294-f75d-41ee-8ece-640f6abbba2e",
   "metadata": {},
   "outputs": [],
   "source": [
    "vicky.place('c1cc(-Br)c(-[OH1])c(CO)c1', long_name='hydroxymethylbromophenol')\n",
    "vicky.summarize()"
   ]
  },
  {
   "cell_type": "code",
   "execution_count": null,
   "id": "8b5ceba4-7b05-41be-85f2-239a0046b8fa",
   "metadata": {},
   "outputs": [],
   "source": [
    "vicky.place('c1cc(-Br)c(-[OH1])c(-Br)c1', long_name='dibromophenol')\n",
    "vicky.summarize()"
   ]
  },
  {
   "cell_type": "code",
   "execution_count": null,
   "id": "ef4ffd4d-2e29-4f14-9f00-ea3c601b5d0a",
   "metadata": {},
   "outputs": [],
   "source": [
    "vicky.place('c1cc(-Br)c(-[OH1])c(O)c1', long_name='hydroxybromophenol')\n",
    "vicky.summarize()"
   ]
  },
  {
   "cell_type": "code",
   "execution_count": null,
   "id": "73ee5f44-e736-4df1-a5ad-1fa6682770d7",
   "metadata": {},
   "outputs": [],
   "source": [
    "vicky.place('c1cc(-Br)c(-[OH1])c(-N)c1', long_name='aminobromophenol')\n",
    "aminobromophenol = vicky.minimized_mol\n",
    "\n",
    "vicky.place('c1cc(-Br)c(-[OH1])c(O)c1', long_name='hydroxybromophenol')\n",
    "hydroxybromophenol = vicky.minimized_mol\n",
    "\n",
    "vicky.place('c1cc(-Br)c(-[OH1])cc1', long_name='bromophenol')\n",
    "bromophenol = vicky.minimized_mol\n",
    "\n",
    "aminobromophenol.SetProp('_Name', 'x1604amino')\n",
    "hydroxybromophenol.SetProp('_Name', 'x1604hydroxyl')\n",
    "bromophenol.SetProp('_Name', 'x1604base')"
   ]
  },
  {
   "cell_type": "code",
   "execution_count": null,
   "id": "ba4d8a42-2b33-470f-88b8-401864f7a3e2",
   "metadata": {},
   "outputs": [],
   "source": [
    "Chem.MolToSmiles(bromophenol)"
   ]
  },
  {
   "cell_type": "code",
   "execution_count": null,
   "id": "452c1b91-b0a0-4bee-946e-64980c1b3114",
   "metadata": {},
   "outputs": [],
   "source": []
  },
  {
   "cell_type": "code",
   "execution_count": null,
   "id": "607f14a7-0709-4622-a88e-153751914b59",
   "metadata": {},
   "outputs": [],
   "source": [
    "vicky = Victor([x0771], pdb_block=pdbblock)\n",
    "\n",
    "vicky.place('NC(=O)c1ccc2c(c1)CCN2', long_name='x0771-self')\n",
    "vicky.summarize()"
   ]
  },
  {
   "cell_type": "code",
   "execution_count": null,
   "id": "3881b826-49ab-4650-a221-698a54b7c3d4",
   "metadata": {},
   "outputs": [],
   "source": [
    "vicky = Victor([x0771], pdb_block=pdbblock)\n",
    "\n",
    "vicky.place('NC(=O)c1ccccc1', long_name='x0771benzo')\n",
    "vicky.summarize()"
   ]
  },
  {
   "cell_type": "code",
   "execution_count": null,
   "id": "d8ae6a62-b824-4bba-bfd5-bc230b3a07e8",
   "metadata": {},
   "outputs": [],
   "source": [
    "x0771benzo = vicky.minimized_mol\n",
    "x0771benzo.SetProp('_Name','x0771benzo')"
   ]
  },
  {
   "cell_type": "code",
   "execution_count": null,
   "id": "f9a5b7df-33bd-4e2f-9af2-a0ffc08cf806",
   "metadata": {},
   "outputs": [],
   "source": []
  },
  {
   "cell_type": "code",
   "execution_count": null,
   "id": "d539b9f2-4446-480e-8965-daadc3cae2c8",
   "metadata": {},
   "outputs": [],
   "source": [
    "with Chem.SDWriter('trimmed_x0771-x1604.sdf') as s:\n",
    "    s.write(x0771benzo)\n",
    "    s.write(bromophenol)    \n",
    "    s.write(aminobromophenol)\n",
    "    s.write(hydroxybromophenol)"
   ]
  },
  {
   "cell_type": "code",
   "execution_count": null,
   "id": "630fe935-b196-49bb-b349-f5be72202093",
   "metadata": {},
   "outputs": [],
   "source": []
  },
  {
   "cell_type": "code",
   "execution_count": null,
   "id": "95f6f069-7159-4451-be40-ec96b9bdcece",
   "metadata": {},
   "outputs": [],
   "source": []
  },
  {
   "cell_type": "code",
   "execution_count": null,
   "id": "19125c65-7031-47ba-a01c-c4da57ffcfec",
   "metadata": {},
   "outputs": [],
   "source": [
    "import pandas as pd\n",
    "\n",
    "group1 = ('x1083L0AP1', 'x1305L0BP1', 'x1247L0AP1')\n",
    "group2 = ('x0789L0AP1',\n",
    " 'x0980L0BP1',\n",
    " 'x1604L0AP1',\n",
    " 'x1594L0AP1',\n",
    " 'x0147L0AP1',\n",
    " 'x0771L1AP1','x0771benzo', 'x1604base', 'x1604amino', 'x1604hydroxyl')\n",
    "group3 = ('x1285L0BP1')\n",
    "\n",
    "intxns = pd.read_csv('03_merge-fragmenstein/interactions.csv')"
   ]
  },
  {
   "cell_type": "code",
   "execution_count": null,
   "id": "afc5af30-e623-442a-9e52-3d75b61342a1",
   "metadata": {},
   "outputs": [],
   "source": [
    "{0, 1}"
   ]
  },
  {
   "cell_type": "code",
   "execution_count": null,
   "id": "2f7d2486-3d06-43fb-8caf-c107f2c77816",
   "metadata": {},
   "outputs": [],
   "source": [
    "def groupify(name):\n",
    "    bleached_name = name.replace('_', 'L').replace('§', 'P')\n",
    "    if bleached_name in group1:\n",
    "        return 1\n",
    "    elif bleached_name in group2:\n",
    "        return 2\n",
    "    elif bleached_name in group3:\n",
    "        return 3\n",
    "    else:\n",
    "        return 0\n",
    "    \n",
    "def allgroupify(names):\n",
    "    if isinstance(names, list):\n",
    "        return {groupify(n) for n in names}\n",
    "    return set()\n",
    "\n",
    "\n",
    "import json\n",
    "intxns['grouped'] = intxns['regarded'].str.replace('[\\'', '').str.replace('\\']', '').str.split(\"', '\").apply(allgroupify)\n",
    "\n",
    "intxns['grouped'].loc[(intxns['grouped'].apply(len) > 1)]"
   ]
  },
  {
   "cell_type": "code",
   "execution_count": null,
   "id": "90016db0-b05f-4d17-92cb-812c3e41dd81",
   "metadata": {},
   "outputs": [],
   "source": [
    "intxns['N_atoms'] = intxns['N_constrained_atoms'] + intxns['N_unconstrained_atoms']"
   ]
  },
  {
   "cell_type": "code",
   "execution_count": null,
   "id": "9acd71b2-9b08-44fa-a097-43df942ef4a7",
   "metadata": {},
   "outputs": [],
   "source": [
    "intxns.sort_values('N_atoms', ascending=False)[['name','regarded', 'grouped', '∆∆G']].head(50)"
   ]
  },
  {
   "cell_type": "code",
   "execution_count": null,
   "id": "f24767d4-58f4-4d1b-a0fb-49d5d1285639",
   "metadata": {
    "ExecuteTime": {
     "end_time": "2023-06-08T11:50:25.486212Z",
     "start_time": "2023-06-08T11:50:25.477374Z"
    }
   },
   "outputs": [],
   "source": [
    "hitdex = {hit.GetProp('_Name'): hit for hit in Chem.SDMolSupplier('filtered_hits.sdf')}"
   ]
  },
  {
   "cell_type": "code",
   "execution_count": null,
   "id": "869665f3",
   "metadata": {
    "ExecuteTime": {
     "end_time": "2023-06-08T11:50:26.071117Z",
     "start_time": "2023-06-08T11:50:26.064950Z"
    },
    "collapsed": false,
    "jupyter": {
     "outputs_hidden": false
    }
   },
   "outputs": [],
   "source": [
    "from rdkit.Chem import Draw, AllChem\n",
    "\n",
    "x1604 = hitdex['x1604L0AP1']\n",
    "x0771 = hitdex['x0771L1AP1']\n",
    "x1498 = hitdex['x1498L0BP1']\n",
    "x1594 = hitdex['x1594L0AP1']\n",
    "\n",
    "x = *map(Chem.Mol, [x1604, x0771, x1498, x1594]),\n",
    "*map(AllChem.Compute2DCoords, x),\n",
    "\n",
    "Draw.MolsToGridImage(x, legends=['x1604', 'x0771', 'x1498', 'x1594'], molsPerRow=4, subImgSize=(300,300))"
   ]
  },
  {
   "cell_type": "code",
   "execution_count": null,
   "id": "36d13a3a",
   "metadata": {
    "ExecuteTime": {
     "end_time": "2023-06-08T11:50:27.198889Z",
     "start_time": "2023-06-08T11:50:27.192348Z"
    },
    "collapsed": false,
    "jupyter": {
     "outputs_hidden": false
    }
   },
   "outputs": [],
   "source": [
    "help(Draw.MolsToGridImage)"
   ]
  },
  {
   "cell_type": "code",
   "execution_count": null,
   "id": "fddeb280",
   "metadata": {
    "ExecuteTime": {
     "end_time": "2023-06-08T11:50:28.525520Z",
     "start_time": "2023-06-08T11:50:28.522401Z"
    },
    "collapsed": false,
    "jupyter": {
     "outputs_hidden": false
    }
   },
   "outputs": [],
   "source": [
    "#Chem.MolFromSmiles(Chem.MolToSmiles(hitdex['x0980L0BP1']))\n",
    "\n",
    "# x0789L0AP1\n",
    "# x1498L0AP1\n",
    "# x1537_0A_1\n",
    "\n",
    "Chem.MolFromSmiles(Chem.MolToSmiles(hitdex['x0147L0AP1']))"
   ]
  },
  {
   "cell_type": "code",
   "execution_count": null,
   "id": "564747de",
   "metadata": {
    "ExecuteTime": {
     "end_time": "2023-06-08T11:50:29.311287Z",
     "start_time": "2023-06-08T11:50:29.273639Z"
    },
    "collapsed": false,
    "jupyter": {
     "outputs_hidden": false
    }
   },
   "outputs": [],
   "source": [
    "import clipboard\n",
    "\n",
    "clipboard.copy( Chem.MolToSmiles(x1594) )"
   ]
  },
  {
   "cell_type": "code",
   "execution_count": null,
   "id": "c3576d95-f32b-4c49-aefa-adb7fdb239d0",
   "metadata": {},
   "outputs": [],
   "source": []
  },
  {
   "cell_type": "code",
   "execution_count": null,
   "id": "ef25c9f3",
   "metadata": {
    "ExecuteTime": {
     "end_time": "2023-06-09T14:11:42.408237Z",
     "start_time": "2023-06-09T14:11:30.795596Z"
    },
    "collapsed": false,
    "jupyter": {
     "outputs_hidden": false
    }
   },
   "outputs": [],
   "source": [
    "vicky = Victor([x1604], pdb_filename='reference.pdb')\n",
    "# '[N-]=[N+]=NCc1cccc(O)c1Br', azide fails!\n",
    "vicky.place('C(C1=CC=CC(O)=C1Br)N2N=NC(C)=C2',long_name='ZINC1536013595-rxd')\n",
    "summaries.append(vicky.summarize())\n",
    "followups.append(vicky.minimized_mol)"
   ]
  },
  {
   "cell_type": "code",
   "execution_count": null,
   "id": "23bda4ad",
   "metadata": {
    "ExecuteTime": {
     "end_time": "2023-06-09T13:45:29.753265Z",
     "start_time": "2023-06-09T13:45:29.570239Z"
    },
    "collapsed": false,
    "jupyter": {
     "outputs_hidden": false
    }
   },
   "outputs": [],
   "source": [
    "!pwd"
   ]
  },
  {
   "cell_type": "code",
   "execution_count": null,
   "id": "3cb3e87e",
   "metadata": {
    "ExecuteTime": {
     "end_time": "2023-06-09T14:54:58.922632Z",
     "start_time": "2023-06-09T14:54:58.914808Z"
    },
    "collapsed": false,
    "jupyter": {
     "outputs_hidden": false
    }
   },
   "outputs": [],
   "source": [
    "## OTHER SIDE\n",
    "\n",
    "phehit_names = ('x1083L0AP1','x1247L0AP1','x1305L0BP1')\n",
    "\n",
    "phehits = {k: hitdex[k] for k in phehit_names}\n"
   ]
  },
  {
   "cell_type": "code",
   "execution_count": null,
   "id": "5d72e017",
   "metadata": {
    "ExecuteTime": {
     "end_time": "2023-06-09T15:19:12.986068Z",
     "start_time": "2023-06-09T15:19:12.943926Z"
    },
    "collapsed": false,
    "jupyter": {
     "outputs_hidden": false
    }
   },
   "outputs": [],
   "source": [
    "from rdkit.Chem import BRICS\n",
    "\n",
    "#x1247L0AP1\n",
    "\n",
    "parts = BRICS.BRICSDecompose(hitdex['x1247L0AP1'], returnMols=True, keepNonLeafNodes=True)\n",
    "\n",
    "Draw.MolsToGridImage([Chem.MolFromSmiles(Chem.MolToSmiles(mol)) for mol in parts])"
   ]
  },
  {
   "cell_type": "code",
   "execution_count": null,
   "id": "66390fff",
   "metadata": {
    "ExecuteTime": {
     "end_time": "2023-06-09T15:19:34.420650Z",
     "start_time": "2023-06-09T15:19:34.371073Z"
    },
    "collapsed": false,
    "jupyter": {
     "outputs_hidden": false
    }
   },
   "outputs": [],
   "source": [
    "x1247relevant: Chem.Mol = list(parts)[4]\n",
    "x1247relevant"
   ]
  },
  {
   "cell_type": "code",
   "execution_count": null,
   "id": "d3579479",
   "metadata": {
    "ExecuteTime": {
     "end_time": "2023-06-09T15:28:16.415270Z",
     "start_time": "2023-06-09T15:28:16.405903Z"
    },
    "collapsed": false,
    "jupyter": {
     "outputs_hidden": false
    }
   },
   "outputs": [],
   "source": [
    "for dummy in x1247relevant.GetAtomsMatchingQuery(AllChem.AtomNumEqualsQueryAtom(0)):\n",
    "    print(dummy.GetSymbol())\n",
    "    dummy.SetAtomicNum(1)\n",
    "\n",
    "x1247relevant = AllChem.RemoveAllHs(x1247relevant)\n",
    "x1247relevant.SetProp('_Name', 'x1247relevant')"
   ]
  },
  {
   "cell_type": "code",
   "execution_count": null,
   "id": "c745654c",
   "metadata": {
    "ExecuteTime": {
     "end_time": "2023-06-09T15:28:17.940109Z",
     "start_time": "2023-06-09T15:28:17.926949Z"
    },
    "collapsed": false,
    "jupyter": {
     "outputs_hidden": false
    }
   },
   "outputs": [],
   "source": [
    "waters = Chem.MolFromPDBBlock('''HETATM    1  O   XXX S   1      -8.361  13.856 -32.231  1.00 26.80           O\n",
    "HETATM    2  N   XXX S   1      -9.596  12.477 -34.426  0.66 26.22           N\n",
    "''')"
   ]
  },
  {
   "cell_type": "code",
   "execution_count": null,
   "id": "ad15e6ef",
   "metadata": {
    "ExecuteTime": {
     "end_time": "2023-06-09T15:28:18.377395Z",
     "start_time": "2023-06-09T15:28:18.368344Z"
    },
    "collapsed": false,
    "jupyter": {
     "outputs_hidden": false
    }
   },
   "outputs": [],
   "source": [
    "with Chem.SDWriter('phe-cluster.sdf') as sdf:\n",
    "    sdf.write(x1247relevant)\n",
    "    sdf.write(hitdex['x1083L0AP1'])\n",
    "    sdf.write(hitdex['x1305L0BP1'])\n",
    "    sdf.write(waters)"
   ]
  },
  {
   "cell_type": "code",
   "execution_count": null,
   "id": "d694e673",
   "metadata": {
    "ExecuteTime": {
     "end_time": "2023-06-12T09:39:15.026284Z",
     "start_time": "2023-06-12T09:39:15.014939Z"
    },
    "collapsed": false,
    "jupyter": {
     "outputs_hidden": false
    }
   },
   "outputs": [],
   "source": [
    "from rdkit import Chem\n",
    "from rdkit.Chem import AllChem, Draw, PandasTools, BRICS\n",
    "from rdkit.Chem.Draw import IPythonConsole\n",
    "import pandas as pd\n",
    "import pandera.typing as pdt\n",
    "from typing import List, Dict\n",
    "\n",
    "hitdex: Dict[str, Chem.Mol] = {}\n",
    "with Chem.SDMolSupplier('hits.sdf') as sds:\n",
    "    for mol in sds:\n",
    "        hitdex[mol.GetProp('_Name')] = mol\n",
    "\n",
    "\n",
    "hitdex['x1305_0B§1']"
   ]
  },
  {
   "cell_type": "code",
   "execution_count": null,
   "id": "69ff26c6-a7cc-45e0-9e53-64e4e96e0d7c",
   "metadata": {},
   "outputs": [],
   "source": [
    "[h for h in hitdex if 'x0771' in h]"
   ]
  },
  {
   "cell_type": "code",
   "execution_count": null,
   "id": "604eb096-403b-4af8-b814-57fc4ee73773",
   "metadata": {},
   "outputs": [],
   "source": [
    "import copy\n",
    "\n",
    "mols = list(map(hitdex.get, ['x1594_0A§1', 'x1604_0A§1', 'x0771_0A§1']))\n",
    "\n",
    "mols2D = copy.deepcopy(mols)\n",
    "for m in mols2D:\n",
    "    AllChem.Compute2DCoords(m)\n",
    "    print(m.GetProp('_Name'), Chem.MolToSmiles(m))\n",
    "\n",
    "Draw.MolsToGridImage(mols2D)"
   ]
  },
  {
   "cell_type": "code",
   "execution_count": null,
   "id": "a61dacdb-5fe6-4d6d-97fa-9f8a731aa650",
   "metadata": {},
   "outputs": [],
   "source": [
    "!ls workshop/D68EV3CPROA/aligned/D68EV3CPROA-x0881_0B"
   ]
  },
  {
   "cell_type": "code",
   "execution_count": null,
   "id": "9f071c5e-3a89-4d57-995f-178cb887b2b6",
   "metadata": {},
   "outputs": [],
   "source": [
    "import pymol2\n",
    "\n",
    "with pymol2.PyMOL() as pymol:\n",
    "    pymol.cmd.load('reference.pdb')\n",
    "    for name, chain in [('x1083', 'A'), ('x1305', 'B'), ('x1247', 'A'), ('x1140', 'A'), ('x1052','A'), ('x1064','B')]:\n",
    "        pymol.cmd.load(f'workshop/D68EV3CPROA/aligned/D68EV3CPROA-{name}_0{chain}/D68EV3CPROA-{name}_0{chain}_bound.pdb',\n",
    "                       name)\n",
    "        pymol.cmd.align(f'%{name} and chain {chain}', 'reference')\n",
    "    pymol.cmd.show('sticks', 'byres resn LIG around 4')\n",
    "    # pymol.cmd.set('grid_mode', 1)\n",
    "    # pymol.cmd.disable('reference')\n",
    "    # pymol.cmd.set('grid_slot', 1, 'x1083')\n",
    "    # pymol.cmd.set('grid_slot', 2, 'x1305')\n",
    "    # pymol.cmd.set('grid_slot', 3, 'x1247')\n",
    "    # pymol.cmd.set('grid_slot', 4, 'x1247')\n",
    "    pymol.cmd.set('use_shaders', 0)\n",
    "    pymol.cmd.set('ray_trace_mode', 3)\n",
    "    pymol.cmd.bg_color('white')\n",
    "    pymol.cmd.save('phe-site.pse')"
   ]
  }
 ],
 "metadata": {
  "kernelspec": {
   "display_name": "Python [conda env:py310]",
   "language": "python",
   "name": "conda-env-py310-py"
  },
  "language_info": {
   "codemirror_mode": {
    "name": "ipython",
    "version": 3
   },
   "file_extension": ".py",
   "mimetype": "text/x-python",
   "name": "python",
   "nbconvert_exporter": "python",
   "pygments_lexer": "ipython3",
   "version": "3.10.10"
  }
 },
 "nbformat": 4,
 "nbformat_minor": 5
}
