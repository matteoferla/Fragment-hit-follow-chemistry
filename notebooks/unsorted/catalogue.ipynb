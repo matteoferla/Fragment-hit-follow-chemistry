{
 "cells": [
  {
   "cell_type": "code",
   "execution_count": null,
   "metadata": {
    "ExecuteTime": {
     "end_time": "2023-06-07T16:38:14.493829Z",
     "start_time": "2023-06-07T16:38:14.488410Z"
    },
    "collapsed": false,
    "jupyter": {
     "outputs_hidden": false
    }
   },
   "outputs": [],
   "source": [
    "import os\n",
    "from pathlib import Path\n",
    "root = Path('/Users/user/Coding/EV-D68-3C-protease/')\n",
    "os.chdir(root)"
   ]
  },
  {
   "cell_type": "code",
   "execution_count": null,
   "metadata": {
    "ExecuteTime": {
     "end_time": "2023-06-07T17:28:24.442090Z",
     "start_time": "2023-06-07T17:28:24.436125Z"
    },
    "tags": []
   },
   "outputs": [],
   "source": [
    "import pandas as pd\n",
    "import requests\n",
    "from typing import List, Union\n",
    "from rdkit import Chem\n",
    "from rdkit.Chem import AllChem\n",
    "\n",
    "options = []\n",
    "\n",
    "class RowGetter:\n",
    "    \"\"\"\n",
    "    Given a pandas table with a column w/ a molecule,\n",
    "    find the _first_ match of a given molecule.\n",
    "\n",
    "    This is not inchi based, which may be silly\n",
    "    Furthermore, what if a molecules is from different libraries?\n",
    "\n",
    "    .. codeblock::python\n",
    "        library_collection = pd.read_csv('../XChem-targets/combined_libraries.csv', index_col=0)\n",
    "        PandasTools.AddMoleculeColumnToFrame(library_collection, 'SMILES', 'molecule', True)\n",
    "        RowGetter(library_collection, 'molecule').get_matching_hits(mols)\n",
    "    \"\"\"\n",
    "    def __init__(self, df: pd.DataFrame, mol_col: str):\n",
    "        self.df = df\n",
    "        self.mol_col = mol_col\n",
    "        self.df['disordered'] = self.df[self.mol_col].apply(self.disorder)\n",
    "\n",
    "    def disorder(self, mol: Chem.Mol) -> Chem.Mol:\n",
    "        \"\"\"\n",
    "        As in, lacks bond order\n",
    "        \"\"\"\n",
    "        disorded = Chem.Mol(mol)\n",
    "        for bond in disorded.GetBonds():\n",
    "            bond.SetBondType(Chem.BondType.SINGLE)\n",
    "        return disorded\n",
    "\n",
    "\n",
    "    def __call__(self, hit: Chem.Mol) -> Union[None, pd.Series]:\n",
    "        hit = AllChem.RemoveAllHs(hit)\n",
    "        m = (self.df[self.mol_col].apply(lambda m: hit.GetNumHeavyAtoms() == m.GetNumHeavyAtoms())) & (self.df[self.mol_col] >= hit)\n",
    "        if sum(m) == 0:\n",
    "            m = (self.df[self.mol_col].apply(lambda m: hit.GetNumHeavyAtoms() == m.GetNumHeavyAtoms())) & (self.df.disordered >= hit)\n",
    "        if sum(m) == 0:\n",
    "            return None\n",
    "        elif sum(m) == 1:\n",
    "            return self.df.loc[m].reset_index().iloc[0]\n",
    "        else:\n",
    "            matches = self.df[m].reset_index()\n",
    "            return pd.Series(dict(Id='Ambigous:' + '|'.join(set(matches.Id.to_list())),\n",
    "                        SMILES=matches.iloc[0].SMILES,\n",
    "                        molecule=matches.iloc[0].molecule,\n",
    "                        library='Ambigous:' + '|'.join(set(matches.library.to_list())),\n",
    "                        Name=matches.iloc[0].Name,\n",
    "                        ))\n",
    "\n",
    "    def get_matching_hits(self, hits: List[Chem.Mol]) -> pd.DataFrame:\n",
    "        rows = []\n",
    "        for hit in hits:\n",
    "            row = self(hit)\n",
    "            if row is None:\n",
    "                rows.append(pd.Series({'3D_molecule': hit, 'in_library': False, 'query': hit, 'library': 'Unknown'}))\n",
    "            else:\n",
    "                row['query'] = hit\n",
    "                row['3D_molecule'] = hit\n",
    "                row['in_library'] = True\n",
    "                rows.append(row)\n",
    "        return pd.DataFrame(rows)\n",
    "\n",
    "    @classmethod\n",
    "    def smiles_to_iupac(cls, smiles: str, raise_error:bool=True) -> str:\n",
    "        \"\"\"\n",
    "        Given a SMILES, get the IUPAC name from NIH Cactus server\n",
    "        \"\"\"\n",
    "        rep = \"iupac_name\"\n",
    "        CACTUS = \"https://cactus.nci.nih.gov/chemical/structure/{0}/{1}\"\n",
    "        url = CACTUS.format(smiles, rep)\n",
    "        response = requests.get(url)\n",
    "        if response.ok:\n",
    "            return response.text\n",
    "        elif raise_error:\n",
    "            response.raise_for_status()\n",
    "        else:\n",
    "            return ''"
   ]
  },
  {
   "cell_type": "code",
   "execution_count": null,
   "metadata": {
    "ExecuteTime": {
     "end_time": "2023-06-07T17:28:25.164726Z",
     "start_time": "2023-06-07T17:28:25.162305Z"
    },
    "collapsed": false,
    "jupyter": {
     "outputs_hidden": false
    }
   },
   "outputs": [],
   "source": [
    "with Chem.SDMolSupplier('hits.sdf') as sds:\n",
    "    hits = list(sds)"
   ]
  },
  {
   "cell_type": "code",
   "execution_count": null,
   "metadata": {
    "ExecuteTime": {
     "end_time": "2023-06-07T17:28:28.179020Z",
     "start_time": "2023-06-07T17:28:25.554123Z"
    },
    "collapsed": false,
    "jupyter": {
     "outputs_hidden": false
    }
   },
   "outputs": [],
   "source": [
    "from rdkit.Chem import PandasTools\n",
    "\n",
    "library_collection = pd.read_csv('02_hit-prep/combined_libraries.csv', index_col=0)\n",
    "PandasTools.AddMoleculeColumnToFrame(library_collection, 'SMILES', 'molecule', True)\n",
    "library_collection['_lib_rank'] = library_collection.library.map(dict(DSiPoised=0, FragLite=1, Euopen=2, PepLite=3, CovHetFrags=4, SpotXplorer=5, York3D=6, Leed3D=7, Cambridge3D=8))\n",
    "library_collection.sort_values(by='_lib_rank', inplace=True)\n",
    "library_collection['SMILES'] = library_collection.SMILES.apply(lambda smiles: sorted(smiles.split('.'), key=len)[-1])"
   ]
  },
  {
   "cell_type": "code",
   "execution_count": null,
   "metadata": {},
   "outputs": [],
   "source": [
    "matches: pd.DataFrame = RowGetter(library_collection, 'molecule').get_matching_hits(hits).reset_index(drop=True)\n",
    "matches['query'] = hits"
   ]
  },
  {
   "cell_type": "code",
   "execution_count": null,
   "metadata": {
    "ExecuteTime": {
     "end_time": "2023-06-07T17:28:28.184197Z",
     "start_time": "2023-06-07T17:28:28.180242Z"
    },
    "collapsed": false,
    "jupyter": {
     "outputs_hidden": false
    }
   },
   "outputs": [],
   "source": [
    "matches.library.value_counts()"
   ]
  },
  {
   "cell_type": "code",
   "execution_count": null,
   "metadata": {
    "collapsed": false,
    "jupyter": {
     "outputs_hidden": false
    }
   },
   "outputs": [],
   "source": [
    "## JUNK"
   ]
  },
  {
   "cell_type": "code",
   "execution_count": null,
   "metadata": {
    "ExecuteTime": {
     "end_time": "2023-06-07T17:00:15.916581Z",
     "start_time": "2023-06-07T17:00:15.884519Z"
    },
    "collapsed": false,
    "jupyter": {
     "outputs_hidden": false
    }
   },
   "outputs": [],
   "source": [
    "# missing bond order\n",
    "\n",
    "def fix(row):\n",
    "    if not row.in_library:\n",
    "        return None\n",
    "    mol = AllChem.AssignBondOrdersFromTemplate(Chem.MolFromSmiles(row.SMILES), row['3D_molecule'])\n",
    "    name = str(row['Name']) if isinstance(row['Name'], str) and '<!DOCTYPE' not in str(row['Name']) else 'unknown'\n",
    "    mol.SetProp('name', name)\n",
    "    for key in ('Id','SMILES', 'library'):\n",
    "        mol.SetProp(key, row[key])\n",
    "    return mol\n",
    "\n",
    "mols = matches.apply(fix, axis=1).to_list()"
   ]
  },
  {
   "cell_type": "code",
   "execution_count": null,
   "metadata": {
    "ExecuteTime": {
     "end_time": "2023-06-07T17:00:56.542455Z",
     "start_time": "2023-06-07T17:00:56.537347Z"
    },
    "collapsed": false,
    "jupyter": {
     "outputs_hidden": false
    }
   },
   "outputs": [],
   "source": [
    "options[0][1].molecule[4]"
   ]
  },
  {
   "cell_type": "code",
   "execution_count": null,
   "metadata": {
    "ExecuteTime": {
     "end_time": "2023-06-07T16:50:11.267289Z",
     "start_time": "2023-06-07T16:50:11.260829Z"
    },
    "collapsed": false,
    "jupyter": {
     "outputs_hidden": false
    }
   },
   "outputs": [],
   "source": [
    "matches.iloc[5]['3D_molecule']"
   ]
  },
  {
   "cell_type": "code",
   "execution_count": null,
   "metadata": {
    "ExecuteTime": {
     "end_time": "2023-06-07T16:45:55.244186Z",
     "start_time": "2023-06-07T16:45:55.163426Z"
    },
    "collapsed": false,
    "jupyter": {
     "outputs_hidden": false
    }
   },
   "outputs": [],
   "source": [
    "import clipboard\n",
    "\n",
    "clipboard.copy(' '.join(set(library_collection.library.to_list())))"
   ]
  },
  {
   "cell_type": "code",
   "execution_count": null,
   "metadata": {},
   "outputs": [],
   "source": [
    "Chem.MolFromSmiles('C~N~C(=O)')"
   ]
  },
  {
   "cell_type": "code",
   "execution_count": null,
   "metadata": {},
   "outputs": [],
   "source": [
    "Chem.MolFromSmarts('C:N:C(=O)')"
   ]
  },
  {
   "cell_type": "code",
   "execution_count": null,
   "metadata": {},
   "outputs": [],
   "source": [
    "library_collection.loc[library_collection.molecule >= Chem.MolFromSmarts('cnc(=O)')].molecule"
   ]
  },
  {
   "cell_type": "code",
   "execution_count": null,
   "metadata": {},
   "outputs": [],
   "source": [
    "hits"
   ]
  },
  {
   "cell_type": "code",
   "execution_count": null,
   "metadata": {},
   "outputs": [],
   "source": [
    "good = ['x0147_0A_1',\n",
    " 'x0771_1A_1',\n",
    " 'x0789_0A_1',\n",
    " 'x0980_0B_1',\n",
    " 'x1083_0A_1',\n",
    " 'x1247_0A_1',\n",
    " 'x1305_0B_1',\n",
    " 'x1498_1B_1',\n",
    " 'x1594_0A_1',\n",
    " 'x1604_0A_1']"
   ]
  },
  {
   "cell_type": "code",
   "execution_count": null,
   "metadata": {},
   "outputs": [],
   "source": []
  }
 ],
 "metadata": {
  "kernelspec": {
   "display_name": "Python [conda env:py310]",
   "language": "python",
   "name": "conda-env-py310-py"
  },
  "language_info": {
   "codemirror_mode": {
    "name": "ipython",
    "version": 3
   },
   "file_extension": ".py",
   "mimetype": "text/x-python",
   "name": "python",
   "nbconvert_exporter": "python",
   "pygments_lexer": "ipython3",
   "version": "3.10.10"
  }
 },
 "nbformat": 4,
 "nbformat_minor": 4
}
