{
 "cells": [
  {
   "cell_type": "code",
   "execution_count": 20,
   "id": "4a710905-7563-4126-aa09-70bb06019b3d",
   "metadata": {},
   "outputs": [
    {
     "data": {
      "text/plain": [
       "{'result': {'code': 2,\n",
       "  'message': 'User is not recognized or allowed request count is exceeded'},\n",
       " 'data': None}"
      ]
     },
     "execution_count": 20,
     "metadata": {},
     "output_type": "execute_result"
    }
   ],
   "source": [
    "url = 'https://www.enaminestore.com/api'\n",
    "headers={'Authorization': 'login=matteo@well.ox.ac.uk, pass=Escherichia1986'}\n",
    "\n",
    "import requests\n",
    "\n",
    "response = requests.get(url, headers=headers)\n",
    "response.json()"
   ]
  },
  {
   "cell_type": "code",
   "execution_count": 49,
   "id": "4a07e472-3602-4c2d-87c1-7d97ab0e675c",
   "metadata": {},
   "outputs": [],
   "source": []
  },
  {
   "cell_type": "code",
   "execution_count": 48,
   "id": "5eecc15c-40ce-43d8-9d5d-80bd0619ba9c",
   "metadata": {},
   "outputs": [
    {
     "data": {
      "text/plain": [
       "'<html>\\r\\n<head><title>403 Forbidden</title></head>\\r\\n<body>\\r\\n<center><h1>403 Forbidden</h1></center>\\r\\n<hr><center>nginx</center>\\r\\n</body>\\r\\n</html>\\r\\n'"
      ]
     },
     "execution_count": 48,
     "metadata": {},
     "output_type": "execute_result"
    }
   ],
   "source": [
    "#de = DownloadEnamine('matteo@well.ox.ac.uk', 'Escehrichia1986')\n",
    "# de.check()\n",
    "de.sesh.get('https://ftp.enamine.net/download/REAL/index.html').text"
   ]
  },
  {
   "cell_type": "code",
   "execution_count": 42,
   "id": "6756b4bb-e25b-4ba5-9f77-171de14fe117",
   "metadata": {},
   "outputs": [],
   "source": [
    "Response."
   ]
  },
  {
   "cell_type": "code",
   "execution_count": 39,
   "id": "7fbfd798-f358-4073-80c7-27ce10864cec",
   "metadata": {},
   "outputs": [
    {
     "ename": "KeyboardInterrupt",
     "evalue": "",
     "output_type": "error",
     "traceback": [
      "\u001B[0;31m---------------------------------------------------------------------------\u001B[0m",
      "\u001B[0;31mKeyboardInterrupt\u001B[0m                         Traceback (most recent call last)",
      "Cell \u001B[0;32mIn[39], line 14\u001B[0m\n\u001B[1;32m     11\u001B[0m                 f\u001B[38;5;241m.\u001B[39mwrite(chunk)\n\u001B[1;32m     12\u001B[0m     \u001B[38;5;28;01mreturn\u001B[39;00m local_filename\n\u001B[0;32m---> 14\u001B[0m \u001B[43mdownload_file\u001B[49m\u001B[43m(\u001B[49m\u001B[38;5;124;43m'\u001B[39;49m\u001B[38;5;124;43mhttps://ftp.enamine.net/download/REAL/Enamine_REAL_HAC_24_394M_CXSMILES.cxsmiles.bz2\u001B[39;49m\u001B[38;5;124;43m'\u001B[39;49m\u001B[43m)\u001B[49m\n",
      "Cell \u001B[0;32mIn[39], line 7\u001B[0m, in \u001B[0;36mdownload_file\u001B[0;34m(url)\u001B[0m\n\u001B[1;32m      5\u001B[0m     r\u001B[38;5;241m.\u001B[39mraise_for_status()\n\u001B[1;32m      6\u001B[0m     \u001B[38;5;28;01mwith\u001B[39;00m \u001B[38;5;28mopen\u001B[39m(local_filename, \u001B[38;5;124m'\u001B[39m\u001B[38;5;124mwb\u001B[39m\u001B[38;5;124m'\u001B[39m) \u001B[38;5;28;01mas\u001B[39;00m f:\n\u001B[0;32m----> 7\u001B[0m         \u001B[38;5;28;01mfor\u001B[39;00m chunk \u001B[38;5;129;01min\u001B[39;00m r\u001B[38;5;241m.\u001B[39miter_content(chunk_size\u001B[38;5;241m=\u001B[39m\u001B[38;5;241m8192\u001B[39m): \n\u001B[1;32m      8\u001B[0m             \u001B[38;5;66;03m# If you have chunk encoded response uncomment if\u001B[39;00m\n\u001B[1;32m      9\u001B[0m             \u001B[38;5;66;03m# and set chunk_size parameter to None.\u001B[39;00m\n\u001B[1;32m     10\u001B[0m             \u001B[38;5;66;03m#if chunk: \u001B[39;00m\n\u001B[1;32m     11\u001B[0m             f\u001B[38;5;241m.\u001B[39mwrite(chunk)\n\u001B[1;32m     12\u001B[0m \u001B[38;5;28;01mreturn\u001B[39;00m local_filename\n",
      "File \u001B[0;32m~/.conda/envs/py310/lib/python3.10/site-packages/requests/models.py:816\u001B[0m, in \u001B[0;36mResponse.iter_content.<locals>.generate\u001B[0;34m()\u001B[0m\n\u001B[1;32m    814\u001B[0m \u001B[38;5;28;01mif\u001B[39;00m \u001B[38;5;28mhasattr\u001B[39m(\u001B[38;5;28mself\u001B[39m\u001B[38;5;241m.\u001B[39mraw, \u001B[38;5;124m\"\u001B[39m\u001B[38;5;124mstream\u001B[39m\u001B[38;5;124m\"\u001B[39m):\n\u001B[1;32m    815\u001B[0m     \u001B[38;5;28;01mtry\u001B[39;00m:\n\u001B[0;32m--> 816\u001B[0m         \u001B[38;5;28;01myield from\u001B[39;00m \u001B[38;5;28mself\u001B[39m\u001B[38;5;241m.\u001B[39mraw\u001B[38;5;241m.\u001B[39mstream(chunk_size, decode_content\u001B[38;5;241m=\u001B[39m\u001B[38;5;28;01mTrue\u001B[39;00m)\n\u001B[1;32m    817\u001B[0m     \u001B[38;5;28;01mexcept\u001B[39;00m ProtocolError \u001B[38;5;28;01mas\u001B[39;00m e:\n\u001B[1;32m    818\u001B[0m         \u001B[38;5;28;01mraise\u001B[39;00m ChunkedEncodingError(e)\n",
      "File \u001B[0;32m~/.conda/envs/py310/lib/python3.10/site-packages/urllib3/response.py:935\u001B[0m, in \u001B[0;36mHTTPResponse.stream\u001B[0;34m(self, amt, decode_content)\u001B[0m\n\u001B[1;32m    933\u001B[0m \u001B[38;5;28;01melse\u001B[39;00m:\n\u001B[1;32m    934\u001B[0m     \u001B[38;5;28;01mwhile\u001B[39;00m \u001B[38;5;129;01mnot\u001B[39;00m is_fp_closed(\u001B[38;5;28mself\u001B[39m\u001B[38;5;241m.\u001B[39m_fp) \u001B[38;5;129;01mor\u001B[39;00m \u001B[38;5;28mlen\u001B[39m(\u001B[38;5;28mself\u001B[39m\u001B[38;5;241m.\u001B[39m_decoded_buffer) \u001B[38;5;241m>\u001B[39m \u001B[38;5;241m0\u001B[39m:\n\u001B[0;32m--> 935\u001B[0m         data \u001B[38;5;241m=\u001B[39m \u001B[38;5;28;43mself\u001B[39;49m\u001B[38;5;241;43m.\u001B[39;49m\u001B[43mread\u001B[49m\u001B[43m(\u001B[49m\u001B[43mamt\u001B[49m\u001B[38;5;241;43m=\u001B[39;49m\u001B[43mamt\u001B[49m\u001B[43m,\u001B[49m\u001B[43m \u001B[49m\u001B[43mdecode_content\u001B[49m\u001B[38;5;241;43m=\u001B[39;49m\u001B[43mdecode_content\u001B[49m\u001B[43m)\u001B[49m\n\u001B[1;32m    937\u001B[0m         \u001B[38;5;28;01mif\u001B[39;00m data:\n\u001B[1;32m    938\u001B[0m             \u001B[38;5;28;01myield\u001B[39;00m data\n",
      "File \u001B[0;32m~/.conda/envs/py310/lib/python3.10/site-packages/urllib3/response.py:874\u001B[0m, in \u001B[0;36mHTTPResponse.read\u001B[0;34m(self, amt, decode_content, cache_content)\u001B[0m\n\u001B[1;32m    871\u001B[0m     \u001B[38;5;28;01mif\u001B[39;00m \u001B[38;5;28mlen\u001B[39m(\u001B[38;5;28mself\u001B[39m\u001B[38;5;241m.\u001B[39m_decoded_buffer) \u001B[38;5;241m>\u001B[39m\u001B[38;5;241m=\u001B[39m amt:\n\u001B[1;32m    872\u001B[0m         \u001B[38;5;28;01mreturn\u001B[39;00m \u001B[38;5;28mself\u001B[39m\u001B[38;5;241m.\u001B[39m_decoded_buffer\u001B[38;5;241m.\u001B[39mget(amt)\n\u001B[0;32m--> 874\u001B[0m data \u001B[38;5;241m=\u001B[39m \u001B[38;5;28;43mself\u001B[39;49m\u001B[38;5;241;43m.\u001B[39;49m\u001B[43m_raw_read\u001B[49m\u001B[43m(\u001B[49m\u001B[43mamt\u001B[49m\u001B[43m)\u001B[49m\n\u001B[1;32m    876\u001B[0m flush_decoder \u001B[38;5;241m=\u001B[39m \u001B[38;5;28;01mFalse\u001B[39;00m\n\u001B[1;32m    877\u001B[0m \u001B[38;5;28;01mif\u001B[39;00m amt \u001B[38;5;129;01mis\u001B[39;00m \u001B[38;5;28;01mNone\u001B[39;00m:\n",
      "File \u001B[0;32m~/.conda/envs/py310/lib/python3.10/site-packages/urllib3/response.py:809\u001B[0m, in \u001B[0;36mHTTPResponse._raw_read\u001B[0;34m(self, amt)\u001B[0m\n\u001B[1;32m    806\u001B[0m fp_closed \u001B[38;5;241m=\u001B[39m \u001B[38;5;28mgetattr\u001B[39m(\u001B[38;5;28mself\u001B[39m\u001B[38;5;241m.\u001B[39m_fp, \u001B[38;5;124m\"\u001B[39m\u001B[38;5;124mclosed\u001B[39m\u001B[38;5;124m\"\u001B[39m, \u001B[38;5;28;01mFalse\u001B[39;00m)\n\u001B[1;32m    808\u001B[0m \u001B[38;5;28;01mwith\u001B[39;00m \u001B[38;5;28mself\u001B[39m\u001B[38;5;241m.\u001B[39m_error_catcher():\n\u001B[0;32m--> 809\u001B[0m     data \u001B[38;5;241m=\u001B[39m \u001B[38;5;28;43mself\u001B[39;49m\u001B[38;5;241;43m.\u001B[39;49m\u001B[43m_fp_read\u001B[49m\u001B[43m(\u001B[49m\u001B[43mamt\u001B[49m\u001B[43m)\u001B[49m \u001B[38;5;28;01mif\u001B[39;00m \u001B[38;5;129;01mnot\u001B[39;00m fp_closed \u001B[38;5;28;01melse\u001B[39;00m \u001B[38;5;124mb\u001B[39m\u001B[38;5;124m\"\u001B[39m\u001B[38;5;124m\"\u001B[39m\n\u001B[1;32m    810\u001B[0m     \u001B[38;5;28;01mif\u001B[39;00m amt \u001B[38;5;129;01mis\u001B[39;00m \u001B[38;5;129;01mnot\u001B[39;00m \u001B[38;5;28;01mNone\u001B[39;00m \u001B[38;5;129;01mand\u001B[39;00m amt \u001B[38;5;241m!=\u001B[39m \u001B[38;5;241m0\u001B[39m \u001B[38;5;129;01mand\u001B[39;00m \u001B[38;5;129;01mnot\u001B[39;00m data:\n\u001B[1;32m    811\u001B[0m         \u001B[38;5;66;03m# Platform-specific: Buggy versions of Python.\u001B[39;00m\n\u001B[1;32m    812\u001B[0m         \u001B[38;5;66;03m# Close the connection when no data is returned\u001B[39;00m\n\u001B[0;32m   (...)\u001B[0m\n\u001B[1;32m    817\u001B[0m         \u001B[38;5;66;03m# not properly close the connection in all cases. There is\u001B[39;00m\n\u001B[1;32m    818\u001B[0m         \u001B[38;5;66;03m# no harm in redundantly calling close.\u001B[39;00m\n\u001B[1;32m    819\u001B[0m         \u001B[38;5;28mself\u001B[39m\u001B[38;5;241m.\u001B[39m_fp\u001B[38;5;241m.\u001B[39mclose()\n",
      "File \u001B[0;32m~/.conda/envs/py310/lib/python3.10/site-packages/urllib3/response.py:794\u001B[0m, in \u001B[0;36mHTTPResponse._fp_read\u001B[0;34m(self, amt)\u001B[0m\n\u001B[1;32m    791\u001B[0m     \u001B[38;5;28;01mreturn\u001B[39;00m buffer\u001B[38;5;241m.\u001B[39mgetvalue()\n\u001B[1;32m    792\u001B[0m \u001B[38;5;28;01melse\u001B[39;00m:\n\u001B[1;32m    793\u001B[0m     \u001B[38;5;66;03m# StringIO doesn't like amt=None\u001B[39;00m\n\u001B[0;32m--> 794\u001B[0m     \u001B[38;5;28;01mreturn\u001B[39;00m \u001B[38;5;28;43mself\u001B[39;49m\u001B[38;5;241;43m.\u001B[39;49m\u001B[43m_fp\u001B[49m\u001B[38;5;241;43m.\u001B[39;49m\u001B[43mread\u001B[49m\u001B[43m(\u001B[49m\u001B[43mamt\u001B[49m\u001B[43m)\u001B[49m \u001B[38;5;28;01mif\u001B[39;00m amt \u001B[38;5;129;01mis\u001B[39;00m \u001B[38;5;129;01mnot\u001B[39;00m \u001B[38;5;28;01mNone\u001B[39;00m \u001B[38;5;28;01melse\u001B[39;00m \u001B[38;5;28mself\u001B[39m\u001B[38;5;241m.\u001B[39m_fp\u001B[38;5;241m.\u001B[39mread()\n",
      "File \u001B[0;32m~/.conda/envs/py310/lib/python3.10/http/client.py:465\u001B[0m, in \u001B[0;36mHTTPResponse.read\u001B[0;34m(self, amt)\u001B[0m\n\u001B[1;32m    462\u001B[0m \u001B[38;5;28;01mif\u001B[39;00m \u001B[38;5;28mself\u001B[39m\u001B[38;5;241m.\u001B[39mlength \u001B[38;5;129;01mis\u001B[39;00m \u001B[38;5;129;01mnot\u001B[39;00m \u001B[38;5;28;01mNone\u001B[39;00m \u001B[38;5;129;01mand\u001B[39;00m amt \u001B[38;5;241m>\u001B[39m \u001B[38;5;28mself\u001B[39m\u001B[38;5;241m.\u001B[39mlength:\n\u001B[1;32m    463\u001B[0m     \u001B[38;5;66;03m# clip the read to the \"end of response\"\u001B[39;00m\n\u001B[1;32m    464\u001B[0m     amt \u001B[38;5;241m=\u001B[39m \u001B[38;5;28mself\u001B[39m\u001B[38;5;241m.\u001B[39mlength\n\u001B[0;32m--> 465\u001B[0m s \u001B[38;5;241m=\u001B[39m \u001B[38;5;28;43mself\u001B[39;49m\u001B[38;5;241;43m.\u001B[39;49m\u001B[43mfp\u001B[49m\u001B[38;5;241;43m.\u001B[39;49m\u001B[43mread\u001B[49m\u001B[43m(\u001B[49m\u001B[43mamt\u001B[49m\u001B[43m)\u001B[49m\n\u001B[1;32m    466\u001B[0m \u001B[38;5;28;01mif\u001B[39;00m \u001B[38;5;129;01mnot\u001B[39;00m s \u001B[38;5;129;01mand\u001B[39;00m amt:\n\u001B[1;32m    467\u001B[0m     \u001B[38;5;66;03m# Ideally, we would raise IncompleteRead if the content-length\u001B[39;00m\n\u001B[1;32m    468\u001B[0m     \u001B[38;5;66;03m# wasn't satisfied, but it might break compatibility.\u001B[39;00m\n\u001B[1;32m    469\u001B[0m     \u001B[38;5;28mself\u001B[39m\u001B[38;5;241m.\u001B[39m_close_conn()\n",
      "File \u001B[0;32m~/.conda/envs/py310/lib/python3.10/socket.py:705\u001B[0m, in \u001B[0;36mSocketIO.readinto\u001B[0;34m(self, b)\u001B[0m\n\u001B[1;32m    703\u001B[0m \u001B[38;5;28;01mwhile\u001B[39;00m \u001B[38;5;28;01mTrue\u001B[39;00m:\n\u001B[1;32m    704\u001B[0m     \u001B[38;5;28;01mtry\u001B[39;00m:\n\u001B[0;32m--> 705\u001B[0m         \u001B[38;5;28;01mreturn\u001B[39;00m \u001B[38;5;28;43mself\u001B[39;49m\u001B[38;5;241;43m.\u001B[39;49m\u001B[43m_sock\u001B[49m\u001B[38;5;241;43m.\u001B[39;49m\u001B[43mrecv_into\u001B[49m\u001B[43m(\u001B[49m\u001B[43mb\u001B[49m\u001B[43m)\u001B[49m\n\u001B[1;32m    706\u001B[0m     \u001B[38;5;28;01mexcept\u001B[39;00m timeout:\n\u001B[1;32m    707\u001B[0m         \u001B[38;5;28mself\u001B[39m\u001B[38;5;241m.\u001B[39m_timeout_occurred \u001B[38;5;241m=\u001B[39m \u001B[38;5;28;01mTrue\u001B[39;00m\n",
      "File \u001B[0;32m~/.conda/envs/py310/lib/python3.10/ssl.py:1274\u001B[0m, in \u001B[0;36mSSLSocket.recv_into\u001B[0;34m(self, buffer, nbytes, flags)\u001B[0m\n\u001B[1;32m   1270\u001B[0m     \u001B[38;5;28;01mif\u001B[39;00m flags \u001B[38;5;241m!=\u001B[39m \u001B[38;5;241m0\u001B[39m:\n\u001B[1;32m   1271\u001B[0m         \u001B[38;5;28;01mraise\u001B[39;00m \u001B[38;5;167;01mValueError\u001B[39;00m(\n\u001B[1;32m   1272\u001B[0m           \u001B[38;5;124m\"\u001B[39m\u001B[38;5;124mnon-zero flags not allowed in calls to recv_into() on \u001B[39m\u001B[38;5;132;01m%s\u001B[39;00m\u001B[38;5;124m\"\u001B[39m \u001B[38;5;241m%\u001B[39m\n\u001B[1;32m   1273\u001B[0m           \u001B[38;5;28mself\u001B[39m\u001B[38;5;241m.\u001B[39m\u001B[38;5;18m__class__\u001B[39m)\n\u001B[0;32m-> 1274\u001B[0m     \u001B[38;5;28;01mreturn\u001B[39;00m \u001B[38;5;28;43mself\u001B[39;49m\u001B[38;5;241;43m.\u001B[39;49m\u001B[43mread\u001B[49m\u001B[43m(\u001B[49m\u001B[43mnbytes\u001B[49m\u001B[43m,\u001B[49m\u001B[43m \u001B[49m\u001B[43mbuffer\u001B[49m\u001B[43m)\u001B[49m\n\u001B[1;32m   1275\u001B[0m \u001B[38;5;28;01melse\u001B[39;00m:\n\u001B[1;32m   1276\u001B[0m     \u001B[38;5;28;01mreturn\u001B[39;00m \u001B[38;5;28msuper\u001B[39m()\u001B[38;5;241m.\u001B[39mrecv_into(buffer, nbytes, flags)\n",
      "File \u001B[0;32m~/.conda/envs/py310/lib/python3.10/ssl.py:1130\u001B[0m, in \u001B[0;36mSSLSocket.read\u001B[0;34m(self, len, buffer)\u001B[0m\n\u001B[1;32m   1128\u001B[0m \u001B[38;5;28;01mtry\u001B[39;00m:\n\u001B[1;32m   1129\u001B[0m     \u001B[38;5;28;01mif\u001B[39;00m buffer \u001B[38;5;129;01mis\u001B[39;00m \u001B[38;5;129;01mnot\u001B[39;00m \u001B[38;5;28;01mNone\u001B[39;00m:\n\u001B[0;32m-> 1130\u001B[0m         \u001B[38;5;28;01mreturn\u001B[39;00m \u001B[38;5;28;43mself\u001B[39;49m\u001B[38;5;241;43m.\u001B[39;49m\u001B[43m_sslobj\u001B[49m\u001B[38;5;241;43m.\u001B[39;49m\u001B[43mread\u001B[49m\u001B[43m(\u001B[49m\u001B[38;5;28;43mlen\u001B[39;49m\u001B[43m,\u001B[49m\u001B[43m \u001B[49m\u001B[43mbuffer\u001B[49m\u001B[43m)\u001B[49m\n\u001B[1;32m   1131\u001B[0m     \u001B[38;5;28;01melse\u001B[39;00m:\n\u001B[1;32m   1132\u001B[0m         \u001B[38;5;28;01mreturn\u001B[39;00m \u001B[38;5;28mself\u001B[39m\u001B[38;5;241m.\u001B[39m_sslobj\u001B[38;5;241m.\u001B[39mread(\u001B[38;5;28mlen\u001B[39m)\n",
      "\u001B[0;31mKeyboardInterrupt\u001B[0m: "
     ]
    }
   ],
   "source": [
    "\n",
    "\n",
    "def download_file(url):\n",
    "    local_filename = url.split('/')[-1]\n",
    "    # NOTE the stream=True parameter below\n",
    "    \n",
    "    return local_filename\n",
    "\n",
    "download_file('https://ftp.enamine.net/download/REAL/Enamine_REAL_HAC_24_394M_CXSMILES.cxsmiles.bz2')"
   ]
  },
  {
   "cell_type": "code",
   "execution_count": 17,
   "id": "0678dedb-b269-46ff-807b-bcd027863c5b",
   "metadata": {},
   "outputs": [
    {
     "data": {
      "text/plain": [
       "{'result': {'code': 2,\n",
       "  'message': 'User is not recognized or allowed request count is exceeded'},\n",
       " 'data': None}"
      ]
     },
     "execution_count": 17,
     "metadata": {},
     "output_type": "execute_result"
    }
   ],
   "source": [
    "url = 'https://www.enaminestore.com/api'\n",
    "# 'https://new.enaminestore.com/api/v1/auth/as-customer/sign-in'\n",
    "import requests\n",
    "\n",
    "sesh = requests.Session()\n",
    "\n",
    "info = dict(email='matteo.ferla@stats.ox.ac.uk', password='Escherichia1986')\n",
    "\n",
    "response = requests.get(url, \n",
    "                         headers={'email': info['email'],\n",
    "                                  'password': info['password']})\n",
    "\n",
    "\n",
    "response.json()\n",
    "    \n",
    "\n",
    "    "
   ]
  },
  {
   "cell_type": "code",
   "execution_count": 24,
   "id": "3987a38f-76df-49ff-a47b-fda9230e5f7f",
   "metadata": {},
   "outputs": [],
   "source": [
    "# curl 'https://enamine.net/compound-collections/real-compounds/real-database' \\\n",
    "#   -H 'authority: enamine.net' \\\n",
    "#   -H 'accept: */*' \\\n",
    "#   -H 'accept-language: en-US,en;q=0.9' \\\n",
    "#   -H 'content-type: application/x-www-form-urlencoded; charset=UTF-8' \\\n",
    "#   -H 'cookie: visid_incap_2798620=kkKe/KUYRROlxTKqkJg3Bp6onWQAAAAAQUIPAAAAAADo1px5JwM2O8BR6k/3fLyt; incap_ses_303_2798620=XIuOGcfo6HSrVxJrfHk0BJ+onWQAAAAAmKionEp5pSJdIE7zczH82g==; _hjFirstSeen=1; _hjIncludedInSessionSample_1854370=0; _hjSession_1854370=eyJpZCI6ImZkYmYwNTBkLWQ3ZmYtNDg2Ny1iMzE4LWZkNTZjNDUxYTdhZSIsImNyZWF0ZWQiOjE2ODgwNTM5MjE5MzEsImluU2FtcGxlIjpmYWxzZX0=; _hjAbsoluteSessionInProgress=0; _ga=GA1.2.1431677880.1688053922; _gid=GA1.2.1448671578.1688053922; _hjSessionUser_1854370=eyJpZCI6IjA1OWU4MzdjLWE5NDAtNTQ3Ni04MzQwLWJhNDQ3MTM5NDg0NiIsImNyZWF0ZWQiOjE2ODgwNTM5MjE5MjYsImV4aXN0aW5nIjp0cnVlfQ==; incap_ses_1444_2798620=HwQmVflSDGVB1NbL8B4KFBWqnWQAAAAAJwgbihgZbVoDaQrc2oUZbA==; 9101ab40d4084dfe337029f96c890797=b5b8c797b40573ae8fff8edeb4def4fa; _gat_gtag_UA_8113375_1=1; ___utmvc=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; amp_1823b4=WYZYk6Drfk_FNafIWDN5mU...1h43tldop.1h43u12tj.6.0.6' \\\n",
    "#   -H 'origin: https://enamine.net' \\\n",
    "#   -H 'referer: https://enamine.net/compound-collections/real-compounds/real-database' \\\n",
    "#   -H 'sec-ch-ua: \"Not.A/Brand\";v=\"8\", \"Chromium\";v=\"114\", \"Google Chrome\";v=\"114\"' \\\n",
    "#   -H 'sec-ch-ua-mobile: ?0' \\\n",
    "#   -H 'sec-ch-ua-platform: \"macOS\"' \\\n",
    "#   -H 'sec-fetch-dest: empty' \\\n",
    "#   -H 'sec-fetch-mode: cors' \\\n",
    "#   -H 'sec-fetch-site: same-origin' \\\n",
    "#   -H 'user-agent: Mozilla/5.0 (Macintosh; Intel Mac OS X 10_15_7) AppleWebKit/537.36 (KHTML, like Gecko) Chrome/114.0.0.0 Safari/537.36' \\\n",
    "#   -H 'x-requested-with: XMLHttpRequest' \\\n",
    "#   --data-raw 'username=matteo%40well.ox.ac.uk&password=Escehrichia1986&Submit=Login&remember=yes&option=com_users&task=user.login&return=aHR0cHM6Ly9lbmFtaW5lLm5ldC9jb21wb3VuZC1jb2xsZWN0aW9ucy9yZWFsLWNvbXBvdW5kcy9yZWFsLWRhdGFiYXNl&800b15ce2a305eaa249a8a6bb86da5b5=1' \\\n",
    "#   --compressed\n",
    "\n",
    "\n",
    "response = requests.get('https://enamine.net/compound-collections/real-compounds/real-database',\n",
    "                        {'username':'matteo@well.ox.ac.uk',\n",
    "                         'password': 'Escehrichia1986',\n",
    "                         'Submit': 'Login', \n",
    "                         'remember': 'yes',\n",
    "                         'option': 'com_users',\n",
    "                         'task':'user.login'})"
   ]
  },
  {
   "cell_type": "code",
   "execution_count": 25,
   "id": "b177138b-f28d-4f3f-8631-f30bff004b17",
   "metadata": {},
   "outputs": [
    {
     "data": {
      "text/plain": [
       "{'Date': 'Thu, 29 Jun 2023 16:04:54 GMT', 'Server': 'Apache', 'Strict-Transport-Security': 'max-age=31536000; includeSubdomains; preload', 'X-Content-Type-Options': 'nosniff, nosniff', 'P3P': 'CP=\"NOI ADM DEV PSAi COM NAV OUR OTRo STP IND DEM\"', 'Expires': 'Wed, 17 Aug 2005 00:00:00 GMT', 'Last-Modified': 'Thu, 29 Jun 2023 16:04:55 GMT', 'Cache-Control': 'no-store, no-cache, must-revalidate, post-check=0, pre-check=0', 'Pragma': 'no-cache', 'Vary': 'Accept-Encoding', 'Content-Encoding': 'gzip', 'Content-Security-Policy': \"frame-ancestors 'self' *.amplitude.com *.hotjar.com www.google-analytics.com *.doubleclick.net www.google.com www.googletagmanager.com *.enaminestore.com;\", 'X-XSS-Protection': '1; mode=block', 'X-Frame-Options': 'SAMEORIGIN', 'Referrer-Policy': 'same-origin', 'Permissions-Policy': 'geolocation=(self)', 'Keep-Alive': 'timeout=5, max=99', 'Connection': 'Keep-Alive', 'Content-Type': 'text/html; charset=utf-8', 'X-CDN': 'Imperva', 'Transfer-Encoding': 'chunked', 'X-Iinfo': '14-93217307-93217388 SNNN RT(1688054693337 861) q(0 0 0 -1) r(7 7) U24'}"
      ]
     },
     "execution_count": 25,
     "metadata": {},
     "output_type": "execute_result"
    }
   ],
   "source": [
    "response.headers"
   ]
  },
  {
   "cell_type": "code",
   "execution_count": null,
   "id": "7bd66c05-cceb-4734-a517-f7f5ae5ff633",
   "metadata": {},
   "outputs": [],
   "source": [
    "print(response.text)"
   ]
  },
  {
   "cell_type": "code",
   "execution_count": null,
   "id": "d4d0c670-5d0a-4130-b5ae-51362c2d3dd7",
   "metadata": {},
   "outputs": [],
   "source": [
    "'Authorization': {\"login\":'matteo.ferla@stats.ox.ac.uk', \"pass\": 'Escherichia1986'}}).json()"
   ]
  },
  {
   "cell_type": "code",
   "execution_count": null,
   "id": "c3aa3f8b-a01a-40c1-87a0-dc346576af36",
   "metadata": {},
   "outputs": [],
   "source": [
    "url = 'https://enamine.net/compound-collections/real-compounds/real-database'"
   ]
  }
 ],
 "metadata": {
  "kernelspec": {
   "display_name": "Python [conda env:py310]",
   "language": "python",
   "name": "conda-env-py310-py"
  },
  "language_info": {
   "codemirror_mode": {
    "name": "ipython",
    "version": 3
   },
   "file_extension": ".py",
   "mimetype": "text/x-python",
   "name": "python",
   "nbconvert_exporter": "python",
   "pygments_lexer": "ipython3",
   "version": "3.10.10"
  }
 },
 "nbformat": 4,
 "nbformat_minor": 5
}
