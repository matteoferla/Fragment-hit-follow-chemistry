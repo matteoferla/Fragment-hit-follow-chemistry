{
 "cells": [
  {
   "cell_type": "code",
   "execution_count": null,
   "id": "153a0463-77d3-4f3d-8d35-2da5d96bf4f6",
   "metadata": {},
   "outputs": [],
   "source": [
    "# Get all followups\n",
    "from rdkit import Chem\n",
    "from typing import Dict\n",
    "\n",
    "with Chem.SDMolSupplier('of-interest.sdf') as sd:\n",
    "    hitdex: Dict[str, Chem.Mol] = {mol.GetProp('_Name'): mol for mol in sd}\n",
    "    \n",
    "with Chem.SDMolSupplier('trimmed_x0771-x1604.sdf') as sds:\n",
    "    for hit in sds:\n",
    "        h_name = hit.GetProp('_Name')\n",
    "        hitdex[h_name] = hit"
   ]
  },
  {
   "cell_type": "code",
   "execution_count": null,
   "id": "07e30999-f9bb-43a3-88a3-9aad27edd858",
   "metadata": {},
   "outputs": [],
   "source": [
    "import requests\n",
    "import pandas as pd\n",
    "\n",
    "# https://arthor.docking.org/api.html\n",
    "\n",
    "base_url = 'https://arthor.docking.org/'\n",
    "\n",
    "dbs = pd.DataFrame( requests.get(base_url + 'dt/data').json() )\n",
    "dbs"
   ]
  },
  {
   "cell_type": "code",
   "execution_count": null,
   "id": "a625c4e1-1791-4d1a-910e-17ab8f7e8eae",
   "metadata": {},
   "outputs": [],
   "source": [
    "Chem.MolFromSmiles(Chem.MolToSmiles(hitdex['x0147_0A§1']))"
   ]
  },
  {
   "cell_type": "code",
   "execution_count": null,
   "id": "eb581173-06a9-4f9e-810a-d51d64db3e00",
   "metadata": {},
   "outputs": [],
   "source": [
    "Chem.MolToSmiles(hitdex['x0147_0A§1'])"
   ]
  },
  {
   "cell_type": "code",
   "execution_count": null,
   "id": "1cf16de6-bfc0-4057-bc1b-9d7f2327df81",
   "metadata": {},
   "outputs": [],
   "source": [
    "# N1C=CC2=C1C=CC=C2\n",
    "Chem.MolFromSmarts('a1aa2[cX3][aH0X2][aH0X2]a2[aX2]a1')"
   ]
  },
  {
   "cell_type": "code",
   "execution_count": null,
   "id": "81af570d-7e2d-495c-bba4-458162a75485",
   "metadata": {},
   "outputs": [],
   "source": [
    "# '[aX3]1:[aX2]:[aH0X2]:[aH0X2]:[cX3]:1'"
   ]
  },
  {
   "cell_type": "markdown",
   "id": "816103f4-4f7d-4a0e-8ec7-ded2e236bdfb",
   "metadata": {},
   "source": [
    "I generated the SMARTS manually. How would this be automated?\n",
    "One option is show the atom indices and ask user to change the atoms.\n",
    "Say idx 1: `c` is wanted as `[aX3]`"
   ]
  },
  {
   "cell_type": "code",
   "execution_count": null,
   "id": "3ba891de-1d85-463d-a8de-7bd1f69de973",
   "metadata": {},
   "outputs": [],
   "source": [
    "## Get table of SMARTS\n",
    "\n",
    "# no need to escape (%2C)\n",
    "dbname=','.join(['BB-50-22Q1', 'MADE-BB-23Q1-770M', 'Mcule-BB-22Q1-2.1M', 'ChemSpace-BB-Stock-Mar2022-712K'])\n",
    "query = 'a1aa2[cX3H0][aH0X2][aH0X2]a2[aX2]a1'\n",
    "\n",
    "from rdkit.Chem import PandasTools, Draw, AllChem\n",
    "response = requests.get(base_url + f'/dt/{dbname}/search', dict(query=query,\n",
    "                                                               type='SMARTS',\n",
    "                                                               length=1_000_000)\n",
    "                       )\n",
    "\n",
    "assert response.json()['recordsTotal']\n",
    "matches = pd.DataFrame( response.json()['data'], columns=['idx', 'smiles_id', 'empty', 'something', 'db'])\n",
    "matches['id'] = matches.smiles_id.str.split(expand=True)[1]\n",
    "matches['smiles'] = matches.smiles_id.str.split(expand=True)[0]\n",
    "matches.drop_duplicates('id')\n",
    "PandasTools.AddMoleculeColumnToFrame(matches,'smiles','mol',includeFingerprints=True)\n",
    "matches = matches.loc[~matches.mol.isnull()]\n",
    "# tabs?\n",
    "matches['db'] = matches.db.str.strip()\n",
    "matches['N_RB'] = matches.mol.apply(AllChem.CalcNumRotatableBonds)\n",
    "matches['N_HA'] = matches.mol.apply(AllChem.CalcNumHeavyAtoms)\n",
    "matches"
   ]
  },
  {
   "cell_type": "markdown",
   "id": "0d569ad7-8194-4b01-9053-11dd8670f91f",
   "metadata": {},
   "source": [
    "TODO: What is the context manager to supress RDKit warnings??\n",
    "\n",
    "https://rdkit.readthedocs.io/en/latest/source/rdkit.RDLogger.html"
   ]
  },
  {
   "cell_type": "code",
   "execution_count": null,
   "id": "f5af39e4-f1bb-46e0-9e7b-83cca2f24e0f",
   "metadata": {},
   "outputs": [],
   "source": [
    "s = matches.loc[(matches.N_HA == 10) & (matches.db == 'BB-50-22Q1')]\n",
    "drawing = Draw.MolsToGridImage(s.mol, legends=s.id.to_list(), molsPerRow=5)\n",
    "with open('enamineBB_10HA.png', 'wb') as fh:\n",
    "    fh.write(drawing.data)\n",
    "\n",
    "drawing"
   ]
  },
  {
   "cell_type": "code",
   "execution_count": null,
   "id": "61a5599d-f934-4bca-88a7-b2272963efb1",
   "metadata": {},
   "outputs": [],
   "source": [
    "bromo_smarts = Chem.MolFromSmarts('a1aa2[cX3H0](-Br)[aH0X2][aH0X2]a2[aX2]a1')\n",
    "matches['bromo4thio'] = matches.mol >= bromo_smarts"
   ]
  },
  {
   "cell_type": "code",
   "execution_count": null,
   "id": "5f66da5e-083a-4a26-8923-0a3163b651fd",
   "metadata": {},
   "outputs": [],
   "source": [
    "s = matches.loc[matches.bromo4thio].sort_values('N_HA', ascending=False)\n",
    "Draw.MolsToGridImage(s.mol, legends=s.id.to_list(), molsPerRow=5)"
   ]
  },
  {
   "cell_type": "code",
   "execution_count": null,
   "id": "fea122d3-d2a9-4f14-aa3d-94d29aa1e150",
   "metadata": {},
   "outputs": [],
   "source": [
    "s = matches.loc[matches.mol >= Chem.MolFromSmiles('N-S(=O)(=O)C')].sort_values('N_HA', ascending=False)\n",
    "Draw.MolsToGridImage(s.mol, legends=s.id.to_list(), molsPerRow=5)"
   ]
  },
  {
   "cell_type": "markdown",
   "id": "24b93436-da64-4714-b616-7034aa30ee5f",
   "metadata": {},
   "source": [
    "PLAN:\n",
    "\n",
    "Matching substruture of SMARTS Chem.Mol will give indices. These will have neighbours that do not feature in tuple: R groups.\n",
    "Add index or isotope to these R groups.\n",
    "Table time.\n",
    "\n",
    "Mapping of Inspiration to SMARTS. Mapping of followup to SMARTS\n",
    "Mapping of latter to former.\n",
    "Fragmenstein place."
   ]
  },
  {
   "cell_type": "code",
   "execution_count": null,
   "id": "717bd4de-0000-47bf-99dd-6e5430c371c1",
   "metadata": {},
   "outputs": [],
   "source": []
  },
  {
   "cell_type": "code",
   "execution_count": null,
   "id": "4a348059-a79a-448b-af4f-53395e9f05d5",
   "metadata": {},
   "outputs": [],
   "source": [
    "# code to get xref ids from Zinc\n",
    "\n",
    "import requests, collections, contextlib\n",
    "from bs4 import BeautifulSoup\n",
    "\n",
    "class ZincInformer(collections.abc.MutableMapping):\n",
    "    \"\"\"\n",
    "    Get Zinc info.\n",
    "    \n",
    "    A class that stores the retieved values —in ``.data`` (``.dump`` and ``.load`` to store).\n",
    "    The values can be accessed as a subscript or by calling the instance,\n",
    "    the latter captures errors declared during initialisation by the argument ``suppressed_exception``.\n",
    "    \n",
    "    .. code-block::python\n",
    "        zinfo = ZincInformer()\n",
    "        series.apply(zinfo)\n",
    "    \"\"\"\n",
    "    \n",
    "    def __init__(self, suppressed_exception=Exception):\n",
    "        self.data = {}\n",
    "        self.suppressed_exception = suppressed_exception\n",
    "        \n",
    "    def __getitem__(self, zinc_id):\n",
    "        if zinc_id not in self.data:\n",
    "            soup = get_soup(zinc_id)\n",
    "            self.data[zinc_id] = self.get_zinc_info(zinc_id, soup)\n",
    "        return self.data[zinc_id]\n",
    "    \n",
    "    def __call__(self, zinc_id):\n",
    "        with contextlib.suppress(self.suppressed_exception):\n",
    "            return self[zinc_id]\n",
    "        self[zinc_id] = {}\n",
    "        return {}\n",
    "    \n",
    "    def __setitem__(self, zinc_id: str, info: dict):\n",
    "        self.data[zinc_id] = info\n",
    "        \n",
    "    def __delitem__(self, zinc_id):\n",
    "        del self.data[zinc_id]\n",
    "        \n",
    "    def __iter__(self):\n",
    "        return iter(self.data)\n",
    "    \n",
    "    def __len__(self):\n",
    "        return len(self.data)\n",
    "    \n",
    "    def dump(self, filename:str='zinc.json'):\n",
    "        with open(filename, 'w') as fh:\n",
    "            json.dump(self.data, fh)\n",
    "            \n",
    "    def load(self, filename:str='zinc.json'):\n",
    "        with open(filename, 'r') as fh:\n",
    "            self.data = json.load(fh)\n",
    "            \n",
    "    # ======== specific methods\n",
    "    \n",
    "    @classmethod\n",
    "    def get_soup(self, zinc_id: str) -> BeautifulSoup:\n",
    "        \"\"\"parse HTML. Return a soup\"\"\"\n",
    "        response = requests.get(f'https://zinc.docking.org/substances/{zinc_id}')\n",
    "        response.raise_for_status()\n",
    "        return BeautifulSoup(response.text, 'html.parser')\n",
    "\n",
    "    @classmethod\n",
    "    def get_dl(self, soup: BeautifulSoup) -> dict:\n",
    "        \"\"\"\n",
    "        Data tables are organised in dl entries, dt headers and dd fields.\n",
    "        \"\"\"\n",
    "        keys, values = [], []\n",
    "        for dl in soup.findAll(\"dl\"):\n",
    "            for dt in dl.findAll(\"dt\"):\n",
    "                keys.append(dt.text.strip())\n",
    "            for dd in dl.findAll(\"dd\"):\n",
    "                values.append(dd.text.strip())\n",
    "        return dict(zip(keys, values))\n",
    "\n",
    "    @classmethod\n",
    "    def polísh(self, dl: dict) -> dict:\n",
    "        \"\"\"\n",
    "        There's a bunch of words that get in the way...\n",
    "        \"\"\"\n",
    "        return {k.replace('Bioactive', '').replace('Natural Products', '').replace('Building Blocks','').strip(): v for k, v in dl.items()}\n",
    "\n",
    "    @classmethod\n",
    "    def get_zinc_info(self, zinc_id, soup):\n",
    "        \"\"\"\n",
    "        These fields ought to always exist!\n",
    "        \"\"\"\n",
    "        return {'query_name': zinc_id,\n",
    "                'title': soup.title.text.strip(),\n",
    "                'SMILES': soup.find('input', dict(id=\"substance-smiles-field\")).attrs['value'].strip(),\n",
    "                'inchi': soup.find('input', dict(id=\"substance-inchi-field\")).attrs['value'].strip(),\n",
    "                'inchikey': soup.find('input', dict(id=\"substance-inchikey-field\")).attrs['value'].strip(),\n",
    "                **self.polísh(self.get_dl(soup))\n",
    "               }"
   ]
  },
  {
   "cell_type": "code",
   "execution_count": null,
   "id": "de0f38de-949a-4ca0-ad14-e1d7b9e98dd5",
   "metadata": {},
   "outputs": [],
   "source": [
    "zinfo = ZincInformer()\n",
    "\n",
    "matches['id'].apply(zinfo)"
   ]
  },
  {
   "cell_type": "code",
   "execution_count": null,
   "outputs": [],
   "source": [],
   "metadata": {
    "collapsed": false
   }
  }
 ],
 "metadata": {
  "kernelspec": {
   "display_name": "Python [conda env:root] *",
   "language": "python",
   "name": "conda-root-py"
  },
  "language_info": {
   "codemirror_mode": {
    "name": "ipython",
    "version": 3
   },
   "file_extension": ".py",
   "mimetype": "text/x-python",
   "name": "python",
   "nbconvert_exporter": "python",
   "pygments_lexer": "ipython3",
   "version": "3.10.10"
  }
 },
 "nbformat": 4,
 "nbformat_minor": 5
}
