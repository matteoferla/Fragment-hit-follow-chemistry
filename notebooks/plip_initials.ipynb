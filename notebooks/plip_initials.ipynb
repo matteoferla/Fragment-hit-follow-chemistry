{
 "cells": [
  {
   "cell_type": "code",
   "execution_count": null,
   "id": "2a3b7758-be73-43f0-8c9e-2f985c007a54",
   "metadata": {},
   "outputs": [],
   "source": [
    "from pathlib import Path\n",
    "target_name = '👾👾👾👾'\n",
    "reference_path = Path(target_name)"
   ]
  },
  {
   "cell_type": "code",
   "execution_count": null,
   "id": "540e1b35-58fb-4b33-8734-ce3fb688e59f",
   "metadata": {},
   "outputs": [],
   "source": [
    "*(reference_path).glob('*'),"
   ]
  },
  {
   "cell_type": "code",
   "execution_count": null,
   "id": "ea8e7c49-1a8f-4a68-bc0a-78e408155078",
   "metadata": {},
   "outputs": [],
   "source": [
    "import pandas as pd\n",
    "\n",
    "meta = pd.read_csv(reference_path / 'metadata.csv') # site_name smiles"
   ]
  },
  {
   "cell_type": "code",
   "execution_count": null,
   "id": "d8082090-0823-4c33-a7ae-51b088214966",
   "metadata": {},
   "outputs": [],
   "source": [
    "import pyrosetta\n",
    "import pyrosetta_help as ph\n",
    "import logging\n",
    "\n",
    "logger = ph.configure_logger()\n",
    "logger.handlers[0].setLevel(logging.ERROR)\n",
    "\n",
    "\n",
    "extra_options = ph.make_option_string(no_optH=False,\n",
    "                                      ex1=None,\n",
    "                                      ex2=None,\n",
    "                                      #mute='all',\n",
    "                                      ignore_unrecognized_res=True,\n",
    "                                      load_PDB_components=False,\n",
    "                                      ignore_waters=False)\n",
    "pyrosetta.init(extra_options=extra_options)"
   ]
  },
  {
   "cell_type": "code",
   "execution_count": null,
   "id": "f064707d-89b7-4a4e-9766-10ee00c7bd50",
   "metadata": {},
   "outputs": [],
   "source": [
    "from rdkit import Chem\n",
    "from rdkit.Chem import AllChem, Draw\n",
    "from rdkit_to_params import Params\n",
    "from typing import List, Dict, Union, Optional, Any, Sequence\n",
    "\n",
    "logger = logging.getLogger()\n",
    "if logger.handlers:\n",
    "    logger.handlers[0].setLevel(logging.ERROR)\n",
    "    \n",
    "    \n",
    "import os\n",
    "import importlib.util\n",
    "from types import ModuleType\n",
    "\n",
    "def import_path(module_path, module_name='custom_module') -> ModuleType:\n",
    "    \"\"\"\n",
    "    A more elegant way that the adding to PATH via sys IMO.\n",
    "    \"\"\"\n",
    "    spec = importlib.util.spec_from_file_location(module_name, module_path)\n",
    "    mod = importlib.util.module_from_spec(spec)\n",
    "    spec.loader.exec_module(mod)\n",
    "    return mod\n",
    "\n",
    "\n",
    "from plip.basic import config\n",
    "\n",
    "config.NOHYDRO = True\n",
    "# config.NOPDBCANMAP = False # no idea.\n",
    "# config.KEEPMOD these are mod residues...\n",
    "\n",
    "\n",
    "module_path = (Path.home() / 'Coding' / 'Fragment-hit-follow-chemistry' / 'followup' / 'plip.py')\n",
    "SerialPLIPper = import_path(module_path).SerialPLIPper\n",
    "    \n",
    "def load_pose(holo_path: Union[str, Path], smiles: str):\n",
    "    #pose = ph.parameterized_pose_from_file(holo_path, wanted_ligands={'LIG': smiles}, proximityBonding=True)\n",
    "    params = Params.from_smiles_w_pdbfile(str(holo_path), smiles=smiles, name='LIG', proximityBonding=True)\n",
    "    pose = pyrosetta.Pose()\n",
    "    params.add_residuetype(pose, True)\n",
    "    pyrosetta.pose_from_file(pose, str(holo_path))\n",
    "    return pose, params\n",
    "\n",
    "def lig_details(pose: pyrosetta.Pose, resn='LIG'):\n",
    "    # this is a weird way of doing but \n",
    "    # the Selector approach is glitchy nn-std type set names\n",
    "    for i, lig in enumerate(pose.residues):\n",
    "        if lig.name3() == resn:\n",
    "            lig_num = i+1\n",
    "            break\n",
    "    else:\n",
    "        raise ValueError(f'{resn} absent — unrecognised?')\n",
    "    #assert lig.name3() == 'LIG', 'Not LIG\n",
    "    atom_names: List[str] = [lig.atom_name(i+1) for i in range(lig.natoms())]\n",
    "    lig_resi=pose.pdb_info().number(lig_num)\n",
    "    lig_chain=pose.pdb_info().chain(lig_num)\n",
    "    return atom_names, lig_resi, lig_chain"
   ]
  },
  {
   "cell_type": "code",
   "execution_count": null,
   "id": "84d03b24-6774-459f-af5f-856235cc6f1b",
   "metadata": {},
   "outputs": [],
   "source": [
    "analysis = {}\n",
    "\n",
    "for i, row in meta.iterrows():\n",
    "    if row.crystal_name in analysis:\n",
    "        continue\n",
    "    # f'{target_name}-{hit_name}'\n",
    "    folder = reference_path / 'aligned' / row.crystal_name\n",
    "    holo_path = folder / f'{row.crystal_name}_bound.pdb'\n",
    "    try:\n",
    "        pose, params = load_pose(holo_path, row.smiles)\n",
    "        pdb_block: str = ph.get_pdbstr(pose)\n",
    "    except Exception as error:\n",
    "        print(error.__class__.__name__, error, row.crystal_name)\n",
    "        continue\n",
    "    # store\n",
    "    pose.dump_pdb(str(folder / f'{row.crystal_name}_protonated.pdb'))\n",
    "    params.dump(str(folder / f'{row.crystal_name}.params'))\n",
    "    # details\n",
    "    atom_names, lig_resi, lig_chain = lig_details(pose)\n",
    "    plipper = SerialPLIPper(ph.get_pdbstr(pose),\n",
    "                        resn='LIG',\n",
    "                        resi=lig_resi,\n",
    "                        chain=lig_chain)\n",
    "    details = plipper.summarize_interactions(atom_names)\n",
    "    analysis[row.crystal_name] = dict(resn='LIG',\n",
    "                                        resi=lig_resi,\n",
    "                                        chain=lig_chain,\n",
    "                                        interactions=details)"
   ]
  },
  {
   "cell_type": "code",
   "execution_count": null,
   "id": "55de5c37-7d13-46c5-8148-1bd849f3a1bd",
   "metadata": {},
   "outputs": [],
   "source": [
    "import json\n",
    "\n",
    "with open('hit_interactions.json', 'w') as w:\n",
    "    json.dump(analysis, w)"
   ]
  },
  {
   "cell_type": "code",
   "execution_count": null,
   "id": "732e5e18-da85-4e3d-83d2-3c5dcbc3186e",
   "metadata": {},
   "outputs": [],
   "source": [
    "pd.DataFrame([{**dict(crystal=k, resn=d['resn'], chain=d['chain'], intxn_N=di),\n",
    "               **dd} for k, d in analysis.items() for di, dd in enumerate(d['interactions'])])\\\n",
    "  .to_csv('hit_interactions.csv')"
   ]
  },
  {
   "cell_type": "code",
   "execution_count": null,
   "id": "7e45b106-dfca-4128-b94c-cca0a4d86426",
   "metadata": {},
   "outputs": [],
   "source": []
  },
  {
   "cell_type": "code",
   "execution_count": null,
   "id": "b2432cfb-a831-4545-8839-3af1e9911f5b",
   "metadata": {},
   "outputs": [],
   "source": [
    "print('\\n'.join([l for l in holo_path.read_text().split('\\n') if 'LIG' in l or 'CON' in l]))"
   ]
  }
 ],
 "metadata": {
  "kernelspec": {
   "display_name": "Python [conda env:py310]",
   "language": "python",
   "name": "conda-env-py310-py"
  },
  "language_info": {
   "codemirror_mode": {
    "name": "ipython",
    "version": 3
   },
   "file_extension": ".py",
   "mimetype": "text/x-python",
   "name": "python",
   "nbconvert_exporter": "python",
   "pygments_lexer": "ipython3",
   "version": "3.10.10"
  }
 },
 "nbformat": 4,
 "nbformat_minor": 5
}
