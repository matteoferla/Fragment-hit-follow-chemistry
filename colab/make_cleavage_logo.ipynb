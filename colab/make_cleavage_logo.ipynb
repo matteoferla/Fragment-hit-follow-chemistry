{
 "nbformat": 4,
 "nbformat_minor": 0,
 "metadata": {
  "colab": {
   "provenance": []
  },
  "kernelspec": {
   "name": "python3",
   "display_name": "Python 3"
  },
  "language_info": {
   "name": "python"
  }
 },
 "cells": [
  {
   "cell_type": "code",
   "execution_count": null,
   "metadata": {
    "cellView": "form",
    "id": "jd7sx1FvRhuT"
   },
   "outputs": [],
   "source": [
    "# @title Run\n",
    "\n",
    "!pip install -q logomaker\n",
    "!pip install -q \"python-benedict[all]\"\n",
    "\n",
    "from benedict import benedict\n",
    "import pandas as pd\n",
    "from collections import defaultdict\n",
    "from typing import List\n",
    "import logomaker, requests, contextlib\n",
    "from IPython.display import display, HTML\n",
    "\n",
    "# @markdown -----------------------------\n",
    "# @markdown Uniprot ID?\n",
    "# @markdown Go to [Uniprot](https://www.uniprot.org/)\n",
    "# @markdown search your virus\n",
    "# @markdown and copy the alphanumeric code\n",
    "# @markdown `Q66478` is A71 for example\n",
    "uniprot_accession = '' # @param {type:\"string\"}\n",
    "\n",
    "# @markdown <-- Press play to run this after inputting your value\n",
    "\n",
    "# @markdown You will be asked to sign into Google, Colab is by Google.\n",
    "# @markdown This runs on Google's servers.\n",
    "\n",
    "\n",
    "# ## Retrieve\n",
    "response: requests.Response = requests.get(f'https://rest.uniprot.org/uniprotkb/{uniprot_accession}.json')\n",
    "response.raise_for_status()\n",
    "data = response.json()\n",
    "bata = benedict(data)\n",
    "name: str = 'protein'\n",
    "with contextlib.suppress(AttributeError):\n",
    "  name = bata.proteinDescription.recommendedName.fullName.value\n",
    "print(f'Downloaded {name}')\n",
    "\n",
    "# ## Extract\n",
    "sites = defaultdict(list)\n",
    "for feature in bata.features:\n",
    "    if feature.type == 'Site':\n",
    "        sites[feature.description].append((feature.location.start.value,\n",
    "                                           feature.location.end.value))\n",
    "print(f'Three {len(sites)} sites definitions are present: One or more may be relevant')\n",
    "\n",
    "# ## Display\n",
    "for site_name in sites:\n",
    "  cuts: List[int] = [c[0] for c in sites[site_name]]\n",
    "  seq:str = bata.sequence.value\n",
    "  cutseqs: List[str] = [seq[c-10:c+10] for c in cuts]\n",
    "  counts: pd.DataFrame = logomaker.alignment_to_matrix(cutseqs)\n",
    "  logo = logomaker.Logo(counts, color_scheme='chemistry')\n",
    "  logo.ax.set_title(site_name)"
   ]
  }
 ]
}
