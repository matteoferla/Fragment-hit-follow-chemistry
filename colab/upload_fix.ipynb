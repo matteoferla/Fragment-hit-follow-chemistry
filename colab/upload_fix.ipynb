{
 "nbformat": 4,
 "nbformat_minor": 0,
 "metadata": {
  "colab": {
   "provenance": []
  },
  "kernelspec": {
   "name": "python3",
   "display_name": "Python 3"
  },
  "language_info": {
   "name": "python"
  }
 },
 "cells": [
  {
   "cell_type": "code",
   "execution_count": null,
   "metadata": {
    "cellView": "form",
    "id": "bqw64N0qdHnm"
   },
   "outputs": [],
   "source": [
    "#@title Installations and function declaration\n",
    "#@markdown # Aims\n",
    "#@markdown A problem in the uploaded compounds to Fragalysis is\n",
    "#@markdown the template and the virtual compounds may have clashed due to induced fit\n",
    "#@markdown yet the latter could not be provided,\n",
    "#@markdown making it hard to understand if really induced or a clash was let be.\n",
    "#@markdown Therefore, ideally the hits will be ranked by induced fit,\n",
    "#@markdown but shown as if lock and key thus not confusing anyone.\n",
    "\n",
    "#@markdown ### Preface on Colab\n",
    "\n",
    "#@markdown ← Press the button with the play icon to run a _cell_.\n",
    "#@markdown In this cell: install requirements.\n",
    "\n",
    "#@markdown This is a _Colab notebook_, a variant of a Jupyter notebook.\n",
    "#@markdown If you are not in Colab press [this](https://colab.research.google.com/github/matteoferla/Fragment-hit-follow-up-chemistry/blob/main/colab/upload_fix.ipynb).\n",
    "#@markdown For the preparation of an upload file\n",
    "#@markdown see [this](https://colab.research.google.com/github/matteoferla/Fragment-hit-follow-up-chemistry/blob/main/colab/upload_prep.ipynb).\n",
    "\n",
    "#@markdown Colab runs in Google's servers, hence why you will get asked\n",
    "#@markdown to sign in if not done so already.\n",
    "#@markdown Likewise it will ask if you trust the author (Matteo Ferla),\n",
    "#@markdown if unsure about whether you should trust anything I do\n",
    "#@markdown [click here for details](https://www.youtube.com/watch?v=dQw4w9WgXcQ).\n",
    "\n",
    "#@markdown The menu bar can shown/hidden via the chevron in the top right.\n",
    "\n",
    "#@markdown To inspect code press `show code` ↓\n",
    "\n",
    "#@markdown Still confused about notebook? Ask your friendly demonstrators for more!\n",
    "\n",
    "\n",
    "!pip install rdkit requests fragmenstein>=0.14.0 pandas tqdm plotly -q\n",
    "\n",
    "\n",
    "from gist_import import GistImporter\n",
    "from types import ModuleType\n",
    "\n",
    "script_url: str = 'https://raw.githubusercontent.com/matteoferla/Fragment-hit-follow-up-chemistry/main/followup/lock_n_keyify.py'\n",
    "lock_n_key: ModuleType = GistImporter.from_github(script_url).to_module('lock_n_key')\n",
    "import requests\n",
    "import zipfile\n",
    "import io\n",
    "import re\n",
    "import os\n",
    "from typing import Dict\n",
    "from rdkit import Chem\n",
    "from rdkit.Chem import AllChem, Draw\n",
    "from rdkit.Chem.Draw import IPythonConsole\n",
    "from fragmenstein import Wictor  # Victor, but RDKit only\n",
    "import logging\n",
    "import operator\n",
    "import pandas as pd\n",
    "import plotly.express as px\n",
    "from tqdm.notebook import tqdm\n",
    "import logging\n",
    "from fragmenstein import Wictor\n",
    "\n",
    "Wictor.enable_stdout(logging.ERROR)"
   ]
  },
  {
   "cell_type": "code",
   "source": [
    "#@title Upload file\n",
    "\n",
    "target = 'A71EV2A' #@param {type:\"string\"}\n",
    "\n",
    "from google.colab import files\n",
    "\n",
    "uploaded = files.upload()\n",
    "\n",
    "filename = list(uploaded.keys())[0]"
   ],
   "metadata": {
    "cellView": "form",
    "id": "AqYdvT4-eAAq"
   },
   "execution_count": null,
   "outputs": []
  },
  {
   "cell_type": "code",
   "source": [
    "#@title Run!\n",
    "\n",
    "print('Fetching PDB blocks')\n",
    "data: dict = lock_n_key.get_target_data(target)\n",
    "project_id: str = data['project_id']\n",
    "apo_pdbblocks: Dict[str, str] = lock_n_key.get_apo_pdbblocks( data['zip_archive'] )\n",
    "apo_pdbblocks = {k: lock_n_key.remove_altloc(block) for k, block in apo_pdbblocks.items() }\n",
    "\n",
    "print('Reading mols')\n",
    "with Chem.ForwardSDMolSupplier(io.BytesIO(uploaded[filename])) as sdfh:\n",
    "    vcs = list(sdfh)\n",
    "header = vcs[0]\n",
    "vcs = vcs[1:]\n",
    "print(f'{vcs} molecules provided')\n",
    "\n",
    "print('Scoring every molecule in every template')\n",
    "all_scores = []\n",
    "for vc in tqdm(vcs):\n",
    "        scores = [lock_n_key.score(vc, template, apo_pdbblock)  for template, apo_pdbblock in apo_pdbblocks.items()]\n",
    "        all_scores.append( scores )\n",
    "best = [sorted(scores, key=operator.itemgetter('∆∆G'))[0] for scores in all_scores if scores]\n",
    "\n",
    "print('Scores:')\n",
    "df = pd.DataFrame(best)\n",
    "print(f'{len(df)} VCs, {sum(df[\"∆∆G\"] < 0.)} acceptably placed. {sum(df[\"comRMSD\"] < 1)} with minor deviation')\n",
    "px.scatter(df, '∆∆G', 'comRMSD',\n",
    "           title='Fragmenstein Wictor placed compounds (best template)').show()"
   ],
   "metadata": {
    "cellView": "form",
    "id": "30T2eHGrgoEv"
   },
   "execution_count": null,
   "outputs": []
  },
  {
   "cell_type": "code",
   "source": [
    "#@title Download\n",
    "\n",
    "output_filename='template-adjusted.sdf' #@param {type:\"string\"}\n",
    "method_suffix='template-adjusted' #@param {type:\"string\"}\n",
    "\n",
    "# Writing file\n",
    "method_name = header.GetProp('method')\n",
    "new_header = Chem.Mol(header)\n",
    "new_header.SetProp('method', f'{method_name}{method_suffix}')\n",
    "n = 0\n",
    "with Chem.SDWriter(output_filename) as sdfh:\n",
    "    sdfh.write(new_header)\n",
    "    for info in best:\n",
    "        if info['∆∆G'] >= 0.:\n",
    "            continue\n",
    "        if info['comRMSD'] >= 2.:\n",
    "            continue\n",
    "        sdfh.write(info['mol'])\n",
    "        n+=1\n",
    "print(f'wrote {n} molecules')\n",
    "\n",
    "# download\n",
    "files.download(output_filename)"
   ],
   "metadata": {
    "cellView": "form",
    "id": "5vaUF83NiuoY"
   },
   "execution_count": null,
   "outputs": []
  }
 ]
}
